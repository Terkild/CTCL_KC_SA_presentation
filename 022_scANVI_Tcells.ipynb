{
 "cells": [
  {
   "cell_type": "code",
   "execution_count": 1,
   "id": "6c6f609a",
   "metadata": {},
   "outputs": [
    {
     "name": "stderr",
     "output_type": "stream",
     "text": [
      "/home/tbb/mambaforge-pypy3/envs/scvi/lib/python3.9/site-packages/scvi/_settings.py:63: UserWarning: Since v1.0.0, scvi-tools no longer uses a random seed by default. Run `scvi.settings.seed = 0` to reproduce results from previous versions.\n",
      "  self.seed = seed\n",
      "/home/tbb/mambaforge-pypy3/envs/scvi/lib/python3.9/site-packages/scvi/_settings.py:70: UserWarning: Setting `dl_pin_memory_gpu_training` is deprecated in v1.0 and will be removed in v1.1. Please pass in `pin_memory` to the data loaders instead.\n",
      "  self.dl_pin_memory_gpu_training = (\n",
      "/home/tbb/mambaforge-pypy3/envs/scvi/lib/python3.9/site-packages/flax/struct.py:132: FutureWarning: jax.tree_util.register_keypaths is deprecated, and will be removed in a future release. Please use `register_pytree_with_keys()` instead.\n",
      "  jax.tree_util.register_keypaths(data_clz, keypaths)\n",
      "/home/tbb/mambaforge-pypy3/envs/scvi/lib/python3.9/site-packages/flax/struct.py:132: FutureWarning: jax.tree_util.register_keypaths is deprecated, and will be removed in a future release. Please use `register_pytree_with_keys()` instead.\n",
      "  jax.tree_util.register_keypaths(data_clz, keypaths)\n"
     ]
    }
   ],
   "source": [
    "import scanpy as sc\n",
    "import scvi\n",
    "import numpy as np\n",
    "import pandas as pd\n",
    "import matplotlib.pyplot as plt\n",
    "import re\n",
    "\n",
    "from rich import print\n",
    "#from scib_metrics.benchmark import Benchmarker\n",
    "from scvi.model.utils import mde\n",
    "from scipy.sparse import csr_matrix"
   ]
  },
  {
   "cell_type": "code",
   "execution_count": 2,
   "id": "23bd5c23",
   "metadata": {},
   "outputs": [
    {
     "data": {
      "text/plain": [
       "'1.0.2'"
      ]
     },
     "execution_count": 2,
     "metadata": {},
     "output_type": "execute_result"
    }
   ],
   "source": [
    "scvi.__version__"
   ]
  },
  {
   "cell_type": "code",
   "execution_count": 3,
   "id": "ee0de473",
   "metadata": {},
   "outputs": [],
   "source": [
    "adata_all = sc.read_h5ad(\"data/adata/all.h5ad\")"
   ]
  },
  {
   "cell_type": "code",
   "execution_count": 4,
   "id": "9056da36",
   "metadata": {},
   "outputs": [],
   "source": [
    "adata_skin = sc.read_h5ad(\"data/adata/skin_scANVI.h5ad\")"
   ]
  },
  {
   "cell_type": "code",
   "execution_count": 5,
   "id": "ef37f152",
   "metadata": {},
   "outputs": [
    {
     "name": "stderr",
     "output_type": "stream",
     "text": [
      "/home/tbb/mambaforge-pypy3/envs/scvi/lib/python3.9/site-packages/anndata/_core/anndata.py:1113: FutureWarning: is_categorical_dtype is deprecated and will be removed in a future version. Use isinstance(dtype, CategoricalDtype) instead\n",
      "  if not is_categorical_dtype(df_full[k]):\n"
     ]
    }
   ],
   "source": [
    "adata = adata_all[adata_skin.obs_names[adata_skin.obs[\"leiden_scANVI_02\"].isin([\"0\", \"2\"])], :].copy()"
   ]
  },
  {
   "cell_type": "code",
   "execution_count": 6,
   "id": "95dd08ad",
   "metadata": {},
   "outputs": [
    {
     "data": {
      "text/plain": [
       "AnnData object with n_obs × n_vars = 79021 × 36601\n",
       "    obs: 'run', 'sum', 'detected', 'subsets_Mito_sum', 'subsets_Mito_detected', 'subsets_Mito_percent', 'total', 'sizeFactor', 'louvain', 'cluster', 'label', 'scDblFinder.class', 'scDblFinder.score', 'scDblFinder.weighted', 'scDblFinder.cxds_score', 'Doublet_cluster', 'doublet', 'dead_cell', 'cc_phase', 'cc_score_S', 'cc_score_G2M', 'ann_singleR_encode', 'cell_type_singleR_encode', 'ann_singleR_HCA', 'cell_type_singleR_HCA', 'cell_type', 'sample', 'tissue', 'study', 'donor', 'TRA.1.v_gene', 'TRA.1.d_gene', 'TRA.1.j_gene', 'TRA.1.c_gene', 'TRA.1.cdr3', 'TRA.1.cdr3_nt', 'TRA.1.umis', 'TRA.1.reads', 'TRA.1.high_confidence', 'TRA.1.productive', 'TRA.1.full_length', 'TRA.1.raw_clonotype_id', 'TRA.2.v_gene', 'TRA.2.d_gene', 'TRA.2.j_gene', 'TRA.2.c_gene', 'TRA.2.cdr3', 'TRA.2.cdr3_nt', 'TRA.2.umis', 'TRA.2.reads', 'TRA.2.high_confidence', 'TRA.2.productive', 'TRA.2.full_length', 'TRA.2.raw_clonotype_id', 'TRB.1.v_gene', 'TRB.1.d_gene', 'TRB.1.j_gene', 'TRB.1.c_gene', 'TRB.1.cdr3', 'TRB.1.cdr3_nt', 'TRB.1.umis', 'TRB.1.reads', 'TRB.1.high_confidence', 'TRB.1.productive', 'TRB.1.full_length', 'TRB.1.raw_clonotype_id', 'TRB.2.v_gene', 'TRB.2.d_gene', 'TRB.2.j_gene', 'TRB.2.c_gene', 'TRB.2.cdr3', 'TRB.2.cdr3_nt', 'TRB.2.umis', 'TRB.2.reads', 'TRB.2.high_confidence', 'TRB.2.productive', 'TRB.2.full_length', 'TRB.2.raw_clonotype_id', 'TRD.1.v_gene', 'TRD.1.d_gene', 'TRD.1.j_gene', 'TRD.1.c_gene', 'TRD.1.cdr3', 'TRD.1.cdr3_nt', 'TRD.1.umis', 'TRD.1.reads', 'TRD.1.high_confidence', 'TRD.1.productive', 'TRD.1.full_length', 'TRD.1.raw_clonotype_id', 'TRA_top5', 'TRB_top5', 'TRD_top5', 'TRG.1.v_gene', 'TRG.1.d_gene', 'TRG.1.j_gene', 'TRG.1.c_gene', 'TRG.1.cdr3', 'TRG.1.cdr3_nt', 'TRG.1.umis', 'TRG.1.reads', 'TRG.1.high_confidence', 'TRG.1.productive', 'TRG.1.full_length', 'TRG.1.raw_clonotype_id', 'TRG_top5', 'IGH.1.v_gene', 'IGH.1.d_gene', 'IGH.1.j_gene', 'IGH.1.c_gene', 'IGH.1.cdr3', 'IGH.1.cdr3_nt', 'IGH.1.umis', 'IGH.1.reads', 'IGH.1.high_confidence', 'IGH.1.productive', 'IGH.1.full_length', 'IGH.1.raw_clonotype_id', 'IGK.1.v_gene', 'IGK.1.d_gene', 'IGK.1.j_gene', 'IGK.1.c_gene', 'IGK.1.cdr3', 'IGK.1.cdr3_nt', 'IGK.1.umis', 'IGK.1.reads', 'IGK.1.high_confidence', 'IGK.1.productive', 'IGK.1.full_length', 'IGK.1.raw_clonotype_id', 'IGL.1.v_gene', 'IGL.1.d_gene', 'IGL.1.j_gene', 'IGL.1.c_gene', 'IGL.1.cdr3', 'IGL.1.cdr3_nt', 'IGL.1.umis', 'IGL.1.reads', 'IGL.1.high_confidence', 'IGL.1.productive', 'IGL.1.full_length', 'IGL.1.raw_clonotype_id', 'Multi.1.v_gene', 'Multi.1.d_gene', 'Multi.1.j_gene', 'Multi.1.c_gene', 'Multi.1.cdr3', 'Multi.1.cdr3_nt', 'Multi.1.umis', 'Multi.1.reads', 'Multi.1.high_confidence', 'Multi.1.productive', 'Multi.1.full_length', 'Multi.1.raw_clonotype_id', 'Non.1.v_gene', 'Non.1.d_gene', 'Non.1.j_gene', 'Non.1.c_gene', 'Non.1.cdr3', 'Non.1.cdr3_nt', 'Non.1.umis', 'Non.1.reads', 'Non.1.high_confidence', 'Non.1.productive', 'Non.1.full_length', 'Non.1.raw_clonotype_id', 'IGH_top5', 'IGK_top5', 'IGL_top5', 'Multi_top5', 'Non_top5', 'Multi.2.v_gene', 'Multi.2.d_gene', 'Multi.2.j_gene', 'Multi.2.c_gene', 'Multi.2.cdr3', 'Multi.2.cdr3_nt', 'Multi.2.umis', 'Multi.2.reads', 'Multi.2.high_confidence', 'Multi.2.productive', 'Multi.2.full_length', 'Multi.2.raw_clonotype_id', 'Malignant.TRA', 'Malignant.TRB', 'Malignant', 'chemistry', 'lesion', 'location', 'CTCL_stage', 'TNMB', 'age', 'sex'"
      ]
     },
     "execution_count": 6,
     "metadata": {},
     "output_type": "execute_result"
    }
   ],
   "source": [
    "adata"
   ]
  },
  {
   "cell_type": "code",
   "execution_count": 7,
   "id": "9b131d73",
   "metadata": {},
   "outputs": [
    {
     "data": {
      "text/plain": [
       "cell_type\n",
       "CD8+ T-cells         45263\n",
       "CD4+ T-cells         31915\n",
       "NK cells               865\n",
       "Epithelial cells       327\n",
       "Keratinocytes          236\n",
       "Fibroblasts            127\n",
       "DC                     126\n",
       "B-cells                 56\n",
       "Adipocytes              36\n",
       "Endothelial cells       31\n",
       "Monocyte                24\n",
       "Erythrocytes             5\n",
       "Melanocytes              4\n",
       "Pre-B_cell_CD34-         3\n",
       "Macrophage               2\n",
       "HSC                      1\n",
       "Name: count, dtype: int64"
      ]
     },
     "execution_count": 7,
     "metadata": {},
     "output_type": "execute_result"
    }
   ],
   "source": [
    "adata.obs[\"cell_type\"].value_counts()"
   ]
  },
  {
   "cell_type": "code",
   "execution_count": 8,
   "id": "a7a40a97",
   "metadata": {},
   "outputs": [
    {
     "data": {
      "text/plain": [
       "array(['TRGJ2', 'TRGJP2', 'TRGJ1', 'TRGJP', 'TRGJP1', 'TRGV11', 'TRGVB',\n",
       "       'TRGV10', 'TRGV9', 'TRGVA', 'TRGV8', 'TRGV7', 'TRGV6', 'TRGV5P',\n",
       "       'TRGV5', 'TRGV4', 'TRGV3', 'TRGV2', 'TRGV1', 'TRBV1', 'TRBV2',\n",
       "       'TRBV3-1', 'TRBV4-1', 'TRBV5-1', 'TRBV6-1', 'TRBV7-1', 'TRBV4-2',\n",
       "       'TRBV6-2', 'TRBV7-2', 'TRBV8-1', 'TRBV5-2', 'TRBV6-4', 'TRBV7-3',\n",
       "       'TRBV8-2', 'TRBV5-3', 'TRBV9', 'TRBV10-1', 'TRBV11-1', 'TRBV12-1',\n",
       "       'TRBV10-2', 'TRBV11-2', 'TRBV12-2', 'TRBV6-5', 'TRBV7-4',\n",
       "       'TRBV5-4', 'TRBV6-6', 'TRBV7-5', 'TRBV5-5', 'TRBV6-7', 'TRBV7-6',\n",
       "       'TRBV5-6', 'TRBV6-8', 'TRBV7-7', 'TRBV5-7', 'TRBV7-9', 'TRBV13',\n",
       "       'TRBV10-3', 'TRBV11-3', 'TRBV12-3', 'TRBV12-4', 'TRBV12-5',\n",
       "       'TRBV14', 'TRBV15', 'TRBV16', 'TRBV17', 'TRBV18', 'TRBV19',\n",
       "       'TRBV20-1', 'TRBV21-1', 'TRBV22-1', 'TRBV23-1', 'TRBV24-1',\n",
       "       'TRBV25-1', 'TRBVA', 'TRBV26', 'TRBVB', 'TRBV27', 'TRBV28',\n",
       "       'TRBV29-1', 'TRBD1', 'TRBJ1-1', 'TRBJ1-2', 'TRBJ1-3', 'TRBJ1-4',\n",
       "       'TRBJ1-5', 'TRBJ1-6', 'TRBJ2-1', 'TRBJ2-2', 'TRBJ2-2P', 'TRBJ2-3',\n",
       "       'TRBJ2-4', 'TRBJ2-5', 'TRBJ2-6', 'TRBJ2-7', 'TRBV30',\n",
       "       'TRBV20OR9-2', 'TRBV21OR9-2', 'TRBV22OR9-2', 'TRBV23OR9-2',\n",
       "       'TRBV24OR9-2', 'TRBV25OR9-2', 'TRBV26OR9-2', 'TRBV29OR9-2',\n",
       "       'TRAV1-1', 'TRAV1-2', 'TRAV2', 'TRAV3', 'TRAV4', 'TRAV5', 'TRAV6',\n",
       "       'TRAV7', 'TRAV8-1', 'TRAV9-1', 'TRAV10', 'TRAV11', 'TRAV12-1',\n",
       "       'TRAV8-2', 'TRAV8-3', 'TRAV13-1', 'TRAV12-2', 'TRAV8-4', 'TRAV8-5',\n",
       "       'TRAV13-2', 'TRAV14DV4', 'TRAV9-2', 'TRAV15', 'TRAV12-3',\n",
       "       'TRAV8-6', 'TRAV16', 'TRAV17', 'TRAV18', 'TRAV19', 'TRAV20',\n",
       "       'TRAV21', 'TRAV22', 'TRAV23DV6', 'TRDV1', 'TRAV24', 'TRAV25',\n",
       "       'TRAV26-1', 'TRAV8-7', 'TRAV27', 'TRAV28', 'TRAV29DV5', 'TRAV30',\n",
       "       'TRAV31', 'TRAV32', 'TRAV33', 'TRAV26-2', 'TRAV34', 'TRAV35',\n",
       "       'TRAV36DV7', 'TRAV37', 'TRAV38-1', 'TRAV38-2DV8', 'TRAV39',\n",
       "       'TRAV40', 'TRAV41', 'TRDV2', 'TRDD1', 'TRDD2', 'TRDD3', 'TRDJ1',\n",
       "       'TRDJ4', 'TRDJ2', 'TRDJ3', 'TRDV3', 'TRAJ61', 'TRAJ60', 'TRAJ59',\n",
       "       'TRAJ58', 'TRAJ57', 'TRAJ56', 'TRAJ55', 'TRAJ54', 'TRAJ53',\n",
       "       'TRAJ52', 'TRAJ51', 'TRAJ50', 'TRAJ49', 'TRAJ48', 'TRAJ47',\n",
       "       'TRAJ46', 'TRAJ45', 'TRAJ44', 'TRAJ43', 'TRAJ42', 'TRAJ41',\n",
       "       'TRAJ40', 'TRAJ39', 'TRAJ38', 'TRAJ37', 'TRAJ36', 'TRAJ35',\n",
       "       'TRAJ34', 'TRAJ33', 'TRAJ32', 'TRAJ31', 'TRAJ30', 'TRAJ29',\n",
       "       'TRAJ28', 'TRAJ27', 'TRAJ26', 'TRAJ25', 'TRAJ24', 'TRAJ23',\n",
       "       'TRAJ22', 'TRAJ21', 'TRAJ20', 'TRAJ19', 'TRAJ18', 'TRAJ17',\n",
       "       'TRAJ16', 'TRAJ14', 'TRAJ13', 'TRAJ12', 'TRAJ11', 'TRAJ10',\n",
       "       'TRAJ9', 'TRAJ8', 'TRAJ7', 'TRAJ6', 'TRAJ5', 'TRAJ4', 'TRAJ3',\n",
       "       'TRAJ2', 'TRAJ1', 'TRADD'], dtype=object)"
      ]
     },
     "execution_count": 8,
     "metadata": {},
     "output_type": "execute_result"
    }
   ],
   "source": [
    "r = re.compile('^TR[ABGD][VDJ].*')\n",
    "vmatch = np.vectorize(lambda x:bool(r.match(x)))\n",
    "\n",
    "A = np.array(adata.var_names.values)\n",
    "sel = vmatch(A)\n",
    "A[sel]"
   ]
  },
  {
   "cell_type": "code",
   "execution_count": 9,
   "id": "c8a91721",
   "metadata": {},
   "outputs": [
    {
     "data": {
      "text/plain": [
       "AnnData object with n_obs × n_vars = 79021 × 36601\n",
       "    obs: 'run', 'sum', 'detected', 'subsets_Mito_sum', 'subsets_Mito_detected', 'subsets_Mito_percent', 'total', 'sizeFactor', 'louvain', 'cluster', 'label', 'scDblFinder.class', 'scDblFinder.score', 'scDblFinder.weighted', 'scDblFinder.cxds_score', 'Doublet_cluster', 'doublet', 'dead_cell', 'cc_phase', 'cc_score_S', 'cc_score_G2M', 'ann_singleR_encode', 'cell_type_singleR_encode', 'ann_singleR_HCA', 'cell_type_singleR_HCA', 'cell_type', 'sample', 'tissue', 'study', 'donor', 'TRA.1.v_gene', 'TRA.1.d_gene', 'TRA.1.j_gene', 'TRA.1.c_gene', 'TRA.1.cdr3', 'TRA.1.cdr3_nt', 'TRA.1.umis', 'TRA.1.reads', 'TRA.1.high_confidence', 'TRA.1.productive', 'TRA.1.full_length', 'TRA.1.raw_clonotype_id', 'TRA.2.v_gene', 'TRA.2.d_gene', 'TRA.2.j_gene', 'TRA.2.c_gene', 'TRA.2.cdr3', 'TRA.2.cdr3_nt', 'TRA.2.umis', 'TRA.2.reads', 'TRA.2.high_confidence', 'TRA.2.productive', 'TRA.2.full_length', 'TRA.2.raw_clonotype_id', 'TRB.1.v_gene', 'TRB.1.d_gene', 'TRB.1.j_gene', 'TRB.1.c_gene', 'TRB.1.cdr3', 'TRB.1.cdr3_nt', 'TRB.1.umis', 'TRB.1.reads', 'TRB.1.high_confidence', 'TRB.1.productive', 'TRB.1.full_length', 'TRB.1.raw_clonotype_id', 'TRB.2.v_gene', 'TRB.2.d_gene', 'TRB.2.j_gene', 'TRB.2.c_gene', 'TRB.2.cdr3', 'TRB.2.cdr3_nt', 'TRB.2.umis', 'TRB.2.reads', 'TRB.2.high_confidence', 'TRB.2.productive', 'TRB.2.full_length', 'TRB.2.raw_clonotype_id', 'TRD.1.v_gene', 'TRD.1.d_gene', 'TRD.1.j_gene', 'TRD.1.c_gene', 'TRD.1.cdr3', 'TRD.1.cdr3_nt', 'TRD.1.umis', 'TRD.1.reads', 'TRD.1.high_confidence', 'TRD.1.productive', 'TRD.1.full_length', 'TRD.1.raw_clonotype_id', 'TRA_top5', 'TRB_top5', 'TRD_top5', 'TRG.1.v_gene', 'TRG.1.d_gene', 'TRG.1.j_gene', 'TRG.1.c_gene', 'TRG.1.cdr3', 'TRG.1.cdr3_nt', 'TRG.1.umis', 'TRG.1.reads', 'TRG.1.high_confidence', 'TRG.1.productive', 'TRG.1.full_length', 'TRG.1.raw_clonotype_id', 'TRG_top5', 'IGH.1.v_gene', 'IGH.1.d_gene', 'IGH.1.j_gene', 'IGH.1.c_gene', 'IGH.1.cdr3', 'IGH.1.cdr3_nt', 'IGH.1.umis', 'IGH.1.reads', 'IGH.1.high_confidence', 'IGH.1.productive', 'IGH.1.full_length', 'IGH.1.raw_clonotype_id', 'IGK.1.v_gene', 'IGK.1.d_gene', 'IGK.1.j_gene', 'IGK.1.c_gene', 'IGK.1.cdr3', 'IGK.1.cdr3_nt', 'IGK.1.umis', 'IGK.1.reads', 'IGK.1.high_confidence', 'IGK.1.productive', 'IGK.1.full_length', 'IGK.1.raw_clonotype_id', 'IGL.1.v_gene', 'IGL.1.d_gene', 'IGL.1.j_gene', 'IGL.1.c_gene', 'IGL.1.cdr3', 'IGL.1.cdr3_nt', 'IGL.1.umis', 'IGL.1.reads', 'IGL.1.high_confidence', 'IGL.1.productive', 'IGL.1.full_length', 'IGL.1.raw_clonotype_id', 'Multi.1.v_gene', 'Multi.1.d_gene', 'Multi.1.j_gene', 'Multi.1.c_gene', 'Multi.1.cdr3', 'Multi.1.cdr3_nt', 'Multi.1.umis', 'Multi.1.reads', 'Multi.1.high_confidence', 'Multi.1.productive', 'Multi.1.full_length', 'Multi.1.raw_clonotype_id', 'Non.1.v_gene', 'Non.1.d_gene', 'Non.1.j_gene', 'Non.1.c_gene', 'Non.1.cdr3', 'Non.1.cdr3_nt', 'Non.1.umis', 'Non.1.reads', 'Non.1.high_confidence', 'Non.1.productive', 'Non.1.full_length', 'Non.1.raw_clonotype_id', 'IGH_top5', 'IGK_top5', 'IGL_top5', 'Multi_top5', 'Non_top5', 'Multi.2.v_gene', 'Multi.2.d_gene', 'Multi.2.j_gene', 'Multi.2.c_gene', 'Multi.2.cdr3', 'Multi.2.cdr3_nt', 'Multi.2.umis', 'Multi.2.reads', 'Multi.2.high_confidence', 'Multi.2.productive', 'Multi.2.full_length', 'Multi.2.raw_clonotype_id', 'Malignant.TRA', 'Malignant.TRB', 'Malignant', 'chemistry', 'lesion', 'location', 'CTCL_stage', 'TNMB', 'age', 'sex'"
      ]
     },
     "execution_count": 9,
     "metadata": {},
     "output_type": "execute_result"
    }
   ],
   "source": [
    "adata"
   ]
  },
  {
   "cell_type": "code",
   "execution_count": 10,
   "id": "db82436d",
   "metadata": {},
   "outputs": [
    {
     "name": "stderr",
     "output_type": "stream",
     "text": [
      "/home/tbb/mambaforge-pypy3/envs/scvi/lib/python3.9/site-packages/anndata/_core/anndata.py:1113: FutureWarning: is_categorical_dtype is deprecated and will be removed in a future version. Use isinstance(dtype, CategoricalDtype) instead\n",
      "  if not is_categorical_dtype(df_full[k]):\n"
     ]
    },
    {
     "data": {
      "text/plain": [
       "AnnData object with n_obs × n_vars = 79021 × 36373\n",
       "    obs: 'run', 'sum', 'detected', 'subsets_Mito_sum', 'subsets_Mito_detected', 'subsets_Mito_percent', 'total', 'sizeFactor', 'louvain', 'cluster', 'label', 'scDblFinder.class', 'scDblFinder.score', 'scDblFinder.weighted', 'scDblFinder.cxds_score', 'Doublet_cluster', 'doublet', 'dead_cell', 'cc_phase', 'cc_score_S', 'cc_score_G2M', 'ann_singleR_encode', 'cell_type_singleR_encode', 'ann_singleR_HCA', 'cell_type_singleR_HCA', 'cell_type', 'sample', 'tissue', 'study', 'donor', 'TRA.1.v_gene', 'TRA.1.d_gene', 'TRA.1.j_gene', 'TRA.1.c_gene', 'TRA.1.cdr3', 'TRA.1.cdr3_nt', 'TRA.1.umis', 'TRA.1.reads', 'TRA.1.high_confidence', 'TRA.1.productive', 'TRA.1.full_length', 'TRA.1.raw_clonotype_id', 'TRA.2.v_gene', 'TRA.2.d_gene', 'TRA.2.j_gene', 'TRA.2.c_gene', 'TRA.2.cdr3', 'TRA.2.cdr3_nt', 'TRA.2.umis', 'TRA.2.reads', 'TRA.2.high_confidence', 'TRA.2.productive', 'TRA.2.full_length', 'TRA.2.raw_clonotype_id', 'TRB.1.v_gene', 'TRB.1.d_gene', 'TRB.1.j_gene', 'TRB.1.c_gene', 'TRB.1.cdr3', 'TRB.1.cdr3_nt', 'TRB.1.umis', 'TRB.1.reads', 'TRB.1.high_confidence', 'TRB.1.productive', 'TRB.1.full_length', 'TRB.1.raw_clonotype_id', 'TRB.2.v_gene', 'TRB.2.d_gene', 'TRB.2.j_gene', 'TRB.2.c_gene', 'TRB.2.cdr3', 'TRB.2.cdr3_nt', 'TRB.2.umis', 'TRB.2.reads', 'TRB.2.high_confidence', 'TRB.2.productive', 'TRB.2.full_length', 'TRB.2.raw_clonotype_id', 'TRD.1.v_gene', 'TRD.1.d_gene', 'TRD.1.j_gene', 'TRD.1.c_gene', 'TRD.1.cdr3', 'TRD.1.cdr3_nt', 'TRD.1.umis', 'TRD.1.reads', 'TRD.1.high_confidence', 'TRD.1.productive', 'TRD.1.full_length', 'TRD.1.raw_clonotype_id', 'TRA_top5', 'TRB_top5', 'TRD_top5', 'TRG.1.v_gene', 'TRG.1.d_gene', 'TRG.1.j_gene', 'TRG.1.c_gene', 'TRG.1.cdr3', 'TRG.1.cdr3_nt', 'TRG.1.umis', 'TRG.1.reads', 'TRG.1.high_confidence', 'TRG.1.productive', 'TRG.1.full_length', 'TRG.1.raw_clonotype_id', 'TRG_top5', 'IGH.1.v_gene', 'IGH.1.d_gene', 'IGH.1.j_gene', 'IGH.1.c_gene', 'IGH.1.cdr3', 'IGH.1.cdr3_nt', 'IGH.1.umis', 'IGH.1.reads', 'IGH.1.high_confidence', 'IGH.1.productive', 'IGH.1.full_length', 'IGH.1.raw_clonotype_id', 'IGK.1.v_gene', 'IGK.1.d_gene', 'IGK.1.j_gene', 'IGK.1.c_gene', 'IGK.1.cdr3', 'IGK.1.cdr3_nt', 'IGK.1.umis', 'IGK.1.reads', 'IGK.1.high_confidence', 'IGK.1.productive', 'IGK.1.full_length', 'IGK.1.raw_clonotype_id', 'IGL.1.v_gene', 'IGL.1.d_gene', 'IGL.1.j_gene', 'IGL.1.c_gene', 'IGL.1.cdr3', 'IGL.1.cdr3_nt', 'IGL.1.umis', 'IGL.1.reads', 'IGL.1.high_confidence', 'IGL.1.productive', 'IGL.1.full_length', 'IGL.1.raw_clonotype_id', 'Multi.1.v_gene', 'Multi.1.d_gene', 'Multi.1.j_gene', 'Multi.1.c_gene', 'Multi.1.cdr3', 'Multi.1.cdr3_nt', 'Multi.1.umis', 'Multi.1.reads', 'Multi.1.high_confidence', 'Multi.1.productive', 'Multi.1.full_length', 'Multi.1.raw_clonotype_id', 'Non.1.v_gene', 'Non.1.d_gene', 'Non.1.j_gene', 'Non.1.c_gene', 'Non.1.cdr3', 'Non.1.cdr3_nt', 'Non.1.umis', 'Non.1.reads', 'Non.1.high_confidence', 'Non.1.productive', 'Non.1.full_length', 'Non.1.raw_clonotype_id', 'IGH_top5', 'IGK_top5', 'IGL_top5', 'Multi_top5', 'Non_top5', 'Multi.2.v_gene', 'Multi.2.d_gene', 'Multi.2.j_gene', 'Multi.2.c_gene', 'Multi.2.cdr3', 'Multi.2.cdr3_nt', 'Multi.2.umis', 'Multi.2.reads', 'Multi.2.high_confidence', 'Multi.2.productive', 'Multi.2.full_length', 'Multi.2.raw_clonotype_id', 'Malignant.TRA', 'Malignant.TRB', 'Malignant', 'chemistry', 'lesion', 'location', 'CTCL_stage', 'TNMB', 'age', 'sex'"
      ]
     },
     "execution_count": 10,
     "metadata": {},
     "output_type": "execute_result"
    }
   ],
   "source": [
    "adata = adata[:, sel == False].copy()\n",
    "adata"
   ]
  },
  {
   "cell_type": "code",
   "execution_count": 11,
   "id": "bd6734d1",
   "metadata": {},
   "outputs": [],
   "source": [
    "adata.X = csr_matrix(adata.X)\n",
    "adata.layers[\"counts\"] = adata.X.copy()"
   ]
  },
  {
   "cell_type": "code",
   "execution_count": 12,
   "id": "f0d01711",
   "metadata": {},
   "outputs": [],
   "source": [
    "adata.obs[\"Malignant_exp\"] = adata_skin.obs.Malignant[adata_skin.obs[\"leiden_scANVI_02\"].isin([\"0\", \"4\"])]"
   ]
  },
  {
   "cell_type": "code",
   "execution_count": 13,
   "id": "96bc7721",
   "metadata": {},
   "outputs": [],
   "source": [
    "del adata_all\n",
    "del adata_skin"
   ]
  },
  {
   "cell_type": "code",
   "execution_count": 14,
   "id": "9822dacc",
   "metadata": {},
   "outputs": [
    {
     "name": "stderr",
     "output_type": "stream",
     "text": [
      "/home/tbb/mambaforge-pypy3/envs/scvi/lib/python3.9/site-packages/anndata/_core/anndata.py:1113: FutureWarning: is_categorical_dtype is deprecated and will be removed in a future version. Use isinstance(dtype, CategoricalDtype) instead\n",
      "  if not is_categorical_dtype(df_full[k]):\n"
     ]
    }
   ],
   "source": [
    "sc.pp.highly_variable_genes(\n",
    "    adata,\n",
    "    flavor=\"seurat_v3\",\n",
    "    n_top_genes=1000,\n",
    "    layer=\"counts\",\n",
    "    batch_key=\"study\",\n",
    "    subset=True,\n",
    ")"
   ]
  },
  {
   "cell_type": "code",
   "execution_count": 15,
   "id": "1c697efb",
   "metadata": {},
   "outputs": [],
   "source": [
    "scvi.model.SCVI.setup_anndata(\n",
    "    adata, \n",
    "    layer=\"counts\", \n",
    "    #categorical_covariate_keys=[\"run\", \"donor\", \"study\"],\n",
    "    categorical_covariate_keys=[\"run\", \"donor\", \"study\", \"chemistry\"],\n",
    "    continuous_covariate_keys=[\"cc_score_S\", \"cc_score_G2M\"]\n",
    ")"
   ]
  },
  {
   "cell_type": "code",
   "execution_count": 16,
   "id": "7b4e8000",
   "metadata": {},
   "outputs": [],
   "source": [
    "vae = scvi.model.SCVI(adata, n_layers=2, n_latent=20, gene_likelihood=\"nb\")"
   ]
  },
  {
   "cell_type": "code",
   "execution_count": null,
   "id": "6ce93316",
   "metadata": {},
   "outputs": [
    {
     "name": "stderr",
     "output_type": "stream",
     "text": [
      "GPU available: True (cuda), used: True\n",
      "TPU available: False, using: 0 TPU cores\n",
      "IPU available: False, using: 0 IPUs\n",
      "HPU available: False, using: 0 HPUs\n",
      "LOCAL_RANK: 0 - CUDA_VISIBLE_DEVICES: [0]\n"
     ]
    },
    {
     "name": "stdout",
     "output_type": "stream",
     "text": [
      "Epoch 89/101:  87%|███████████████████████████████████████████████████████████████████████████████████████████████████████████████████▉                 | 88/101 [10:20<01:35,  7.38s/it, v_num=1, train_loss_step=268, train_loss_epoch=255]"
     ]
    }
   ],
   "source": [
    "vae.train()"
   ]
  },
  {
   "cell_type": "code",
   "execution_count": null,
   "id": "58f30db8",
   "metadata": {},
   "outputs": [],
   "source": [
    "adata.obsm[\"X_scVI\"] = vae.get_latent_representation()"
   ]
  },
  {
   "cell_type": "code",
   "execution_count": null,
   "id": "8f0d33ca",
   "metadata": {},
   "outputs": [],
   "source": [
    "sc.pp.neighbors(adata, use_rep=\"X_scVI\")\n",
    "sc.tl.umap(adata, min_dist=0.3)\n",
    "adata.obsm[\"X_umap_scVI\"] = adata.obsm[\"X_umap\"]"
   ]
  },
  {
   "cell_type": "code",
   "execution_count": null,
   "id": "682d2f70",
   "metadata": {},
   "outputs": [],
   "source": [
    "perm_inds = np.random.permutation(len(adata))\n",
    "sc.pl.embedding(\n",
    "    adata[perm_inds],\n",
    "    basis=\"X_umap_scVI\",\n",
    "    color=[\"run\", \"donor\", \"Malignant\", \"Malignant_exp\"],\n",
    "    frameon=False,\n",
    "    colorbar_loc=\"None\",\n",
    "    ncols=1,\n",
    ")"
   ]
  },
  {
   "cell_type": "code",
   "execution_count": null,
   "id": "29b8c06d",
   "metadata": {},
   "outputs": [],
   "source": [
    "lvae = scvi.model.SCANVI.from_scvi_model(\n",
    "    vae,\n",
    "    adata=adata,\n",
    "    labels_key=\"Malignant\",\n",
    "    unlabeled_category=\"Unknown\",\n",
    ")"
   ]
  },
  {
   "cell_type": "code",
   "execution_count": null,
   "id": "fc32dd7f",
   "metadata": {},
   "outputs": [],
   "source": [
    "lvae.train(max_epochs=50, n_samples_per_label=100)"
   ]
  },
  {
   "cell_type": "code",
   "execution_count": null,
   "id": "039405c9",
   "metadata": {},
   "outputs": [],
   "source": [
    "adata.obsm[\"X_scANVI\"] = lvae.get_latent_representation(adata)"
   ]
  },
  {
   "cell_type": "code",
   "execution_count": null,
   "id": "b10bac6c",
   "metadata": {},
   "outputs": [],
   "source": [
    "sc.pp.neighbors(adata, use_rep=\"X_scANVI\")\n",
    "sc.tl.leiden(adata)\n",
    "adata.obs[\"leiden_scANVI\"] = adata.obs[\"leiden\"]"
   ]
  },
  {
   "cell_type": "code",
   "execution_count": null,
   "id": "8ab5619c",
   "metadata": {},
   "outputs": [],
   "source": [
    "#adata.obsm[\"X_mde_scanvi\"] = mde(adata.obsm[\"X_scANVI\"])\n",
    "sc.tl.umap(adata, min_dist=0.3)\n",
    "adata.obsm[\"X_umap_scANVI_03\"] = adata.obsm[\"X_umap\"]"
   ]
  },
  {
   "cell_type": "code",
   "execution_count": null,
   "id": "8372d4e7",
   "metadata": {},
   "outputs": [],
   "source": [
    "sc.tl.umap(adata, min_dist=0.2)\n",
    "adata.obsm[\"X_umap_scANVI_02\"] = adata.obsm[\"X_umap\"]\n",
    "adata.obsm[\"X_umap_scANVI\"] = adata.obsm[\"X_umap_scANVI_02\"]"
   ]
  },
  {
   "cell_type": "code",
   "execution_count": null,
   "id": "8724235e",
   "metadata": {},
   "outputs": [],
   "source": [
    "sc.tl.umap(adata, min_dist=0.1)\n",
    "adata.obsm[\"X_umap_scANVI_01\"] = adata.obsm[\"X_umap\"]\n",
    "adata.obsm[\"X_umap_scANVI\"] = adata.obsm[\"X_umap_scANVI_01\"]"
   ]
  },
  {
   "cell_type": "code",
   "execution_count": null,
   "id": "2b21b523",
   "metadata": {},
   "outputs": [],
   "source": [
    "perm_inds = np.random.permutation(len(adata))\n",
    "sc.pl.embedding(\n",
    "    adata[perm_inds],\n",
    "    basis=\"X_umap_scANVI\",\n",
    "    color=[\"run\", \"donor\", \"leiden\", \"Malignant\"],\n",
    "    frameon=False,\n",
    "    colorbar_loc=\"None\",\n",
    "    ncols=1,\n",
    ")"
   ]
  },
  {
   "cell_type": "code",
   "execution_count": null,
   "id": "0ab9b440",
   "metadata": {},
   "outputs": [],
   "source": [
    "perm_inds = np.random.permutation(len(adata))\n",
    "sc.pl.embedding(\n",
    "    adata[perm_inds],\n",
    "    basis=\"X_umap_scANVI\",\n",
    "    color=[\"study\", \"chemistry\"],\n",
    "    frameon=False,\n",
    "    colorbar_loc=\"None\",\n",
    "    ncols=1,\n",
    ")"
   ]
  },
  {
   "cell_type": "code",
   "execution_count": null,
   "id": "6eb49900",
   "metadata": {},
   "outputs": [],
   "source": [
    "sc.tl.leiden(adata, key_added=\"leiden_scANVI_02\", resolution=0.2)\n",
    "sc.tl.leiden(adata, key_added=\"leiden_scANVI_03\", resolution=0.3)\n",
    "sc.tl.leiden(adata, key_added=\"leiden_scANVI_04\", resolution=0.4)\n",
    "sc.tl.leiden(adata, key_added=\"leiden_scANVI_05\", resolution=0.5)\n",
    "sc.tl.leiden(adata, key_added=\"leiden_scANVI_07\", resolution=0.7)\n",
    "sc.tl.leiden(adata, key_added=\"leiden_scANVI_10\", resolution=1.0)\n",
    "sc.tl.leiden(adata, key_added=\"leiden_scANVI_15\", resolution=1.5)\n",
    "sc.tl.leiden(adata, key_added=\"leiden_scANVI_20\", resolution=2.0)"
   ]
  },
  {
   "cell_type": "code",
   "execution_count": null,
   "id": "d37669c1",
   "metadata": {},
   "outputs": [],
   "source": [
    "sc.pl.embedding(\n",
    "    adata[perm_inds],\n",
    "    basis=\"X_umap_scANVI\",\n",
    "    color=[\"leiden_scANVI_02\", \"leiden_scANVI_03\", \"leiden_scANVI_04\", \"leiden_scANVI_05\", \"leiden_scANVI_07\", \"leiden_scANVI_10\", \"leiden_scANVI_15\", \"leiden_scANVI_20\"],\n",
    "    legend_loc=\"on data\",\n",
    "    frameon=False,\n",
    "    ncols=2,\n",
    ")"
   ]
  },
  {
   "cell_type": "code",
   "execution_count": null,
   "id": "32d69001",
   "metadata": {},
   "outputs": [],
   "source": [
    "adata.layers[\"scvi_normalized\"] = lvae.get_normalized_expression(library_size=10e4)"
   ]
  },
  {
   "cell_type": "code",
   "execution_count": null,
   "id": "db8da952",
   "metadata": {},
   "outputs": [],
   "source": [
    "adata.write_h5ad(\"data/adata/skin_Tcell_scANVI.h5ad\")\n",
    "vae.save(\"data/scVI/skin_Tcell_scVI\", overwrite=True)\n",
    "lvae.save(\"data/scVI/skin_Tcell_scANVI\", overwrite=True)"
   ]
  }
 ],
 "metadata": {
  "kernelspec": {
   "display_name": "Python 3 (ipykernel)",
   "language": "python",
   "name": "python3"
  },
  "language_info": {
   "codemirror_mode": {
    "name": "ipython",
    "version": 3
   },
   "file_extension": ".py",
   "mimetype": "text/x-python",
   "name": "python",
   "nbconvert_exporter": "python",
   "pygments_lexer": "ipython3",
   "version": "3.9.13"
  }
 },
 "nbformat": 4,
 "nbformat_minor": 5
}
