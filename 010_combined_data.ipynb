{
 "cells": [
  {
   "cell_type": "code",
   "execution_count": 1,
   "id": "2a7a92f0",
   "metadata": {},
   "outputs": [
    {
     "name": "stderr",
     "output_type": "stream",
     "text": [
      "Warning message:\n",
      "“package ‘tibble’ was built under R version 4.3.2”\n",
      "Warning message:\n",
      "“package ‘readr’ was built under R version 4.3.2”\n",
      "Warning message:\n",
      "“package ‘forcats’ was built under R version 4.3.2”\n",
      "Warning message:\n",
      "“package ‘lubridate’ was built under R version 4.3.2”\n",
      "── \u001b[1mAttaching core tidyverse packages\u001b[22m ───────────────────────────────────────────────────────────────────────────────────────────────────────────────────────────────────── tidyverse 2.0.0 ──\n",
      "\u001b[32m✔\u001b[39m \u001b[34mdplyr    \u001b[39m 1.1.4     \u001b[32m✔\u001b[39m \u001b[34mreadr    \u001b[39m 2.1.4\n",
      "\u001b[32m✔\u001b[39m \u001b[34mforcats  \u001b[39m 1.0.0     \u001b[32m✔\u001b[39m \u001b[34mstringr  \u001b[39m 1.5.1\n",
      "\u001b[32m✔\u001b[39m \u001b[34mggplot2  \u001b[39m 3.4.2     \u001b[32m✔\u001b[39m \u001b[34mtibble   \u001b[39m 3.2.1\n",
      "\u001b[32m✔\u001b[39m \u001b[34mlubridate\u001b[39m 1.9.3     \u001b[32m✔\u001b[39m \u001b[34mtidyr    \u001b[39m 1.3.1\n",
      "\u001b[32m✔\u001b[39m \u001b[34mpurrr    \u001b[39m 1.0.2     \n",
      "── \u001b[1mConflicts\u001b[22m ─────────────────────────────────────────────────────────────────────────────────────────────────────────────────────────────────────────────────────── tidyverse_conflicts() ──\n",
      "\u001b[31m✖\u001b[39m \u001b[34mdplyr\u001b[39m::\u001b[32mfilter()\u001b[39m masks \u001b[34mstats\u001b[39m::filter()\n",
      "\u001b[31m✖\u001b[39m \u001b[34mdplyr\u001b[39m::\u001b[32mlag()\u001b[39m    masks \u001b[34mstats\u001b[39m::lag()\n",
      "\u001b[36mℹ\u001b[39m Use the conflicted package (\u001b[3m\u001b[34m<http://conflicted.r-lib.org/>\u001b[39m\u001b[23m) to force all conflicts to become errors\n",
      "\n",
      "Attaching package: ‘magrittr’\n",
      "\n",
      "\n",
      "The following object is masked from ‘package:purrr’:\n",
      "\n",
      "    set_names\n",
      "\n",
      "\n",
      "The following object is masked from ‘package:tidyr’:\n",
      "\n",
      "    extract\n",
      "\n",
      "\n",
      "Loading required package: SummarizedExperiment\n",
      "\n",
      "Loading required package: MatrixGenerics\n",
      "\n",
      "Loading required package: matrixStats\n",
      "\n",
      "\n",
      "Attaching package: ‘matrixStats’\n",
      "\n",
      "\n",
      "The following object is masked from ‘package:dplyr’:\n",
      "\n",
      "    count\n",
      "\n",
      "\n",
      "\n",
      "Attaching package: ‘MatrixGenerics’\n",
      "\n",
      "\n",
      "The following objects are masked from ‘package:matrixStats’:\n",
      "\n",
      "    colAlls, colAnyNAs, colAnys, colAvgsPerRowSet, colCollapse,\n",
      "    colCounts, colCummaxs, colCummins, colCumprods, colCumsums,\n",
      "    colDiffs, colIQRDiffs, colIQRs, colLogSumExps, colMadDiffs,\n",
      "    colMads, colMaxs, colMeans2, colMedians, colMins, colOrderStats,\n",
      "    colProds, colQuantiles, colRanges, colRanks, colSdDiffs, colSds,\n",
      "    colSums2, colTabulates, colVarDiffs, colVars, colWeightedMads,\n",
      "    colWeightedMeans, colWeightedMedians, colWeightedSds,\n",
      "    colWeightedVars, rowAlls, rowAnyNAs, rowAnys, rowAvgsPerColSet,\n",
      "    rowCollapse, rowCounts, rowCummaxs, rowCummins, rowCumprods,\n",
      "    rowCumsums, rowDiffs, rowIQRDiffs, rowIQRs, rowLogSumExps,\n",
      "    rowMadDiffs, rowMads, rowMaxs, rowMeans2, rowMedians, rowMins,\n",
      "    rowOrderStats, rowProds, rowQuantiles, rowRanges, rowRanks,\n",
      "    rowSdDiffs, rowSds, rowSums2, rowTabulates, rowVarDiffs, rowVars,\n",
      "    rowWeightedMads, rowWeightedMeans, rowWeightedMedians,\n",
      "    rowWeightedSds, rowWeightedVars\n",
      "\n",
      "\n",
      "Loading required package: GenomicRanges\n",
      "\n",
      "Loading required package: stats4\n",
      "\n",
      "Loading required package: BiocGenerics\n",
      "\n",
      "\n",
      "Attaching package: ‘BiocGenerics’\n",
      "\n",
      "\n",
      "The following objects are masked from ‘package:lubridate’:\n",
      "\n",
      "    intersect, setdiff, union\n",
      "\n",
      "\n",
      "The following objects are masked from ‘package:dplyr’:\n",
      "\n",
      "    combine, intersect, setdiff, union\n",
      "\n",
      "\n",
      "The following objects are masked from ‘package:stats’:\n",
      "\n",
      "    IQR, mad, sd, var, xtabs\n",
      "\n",
      "\n",
      "The following objects are masked from ‘package:base’:\n",
      "\n",
      "    anyDuplicated, aperm, append, as.data.frame, basename, cbind,\n",
      "    colnames, dirname, do.call, duplicated, eval, evalq, Filter, Find,\n",
      "    get, grep, grepl, intersect, is.unsorted, lapply, Map, mapply,\n",
      "    match, mget, order, paste, pmax, pmax.int, pmin, pmin.int,\n",
      "    Position, rank, rbind, Reduce, rownames, sapply, setdiff, sort,\n",
      "    table, tapply, union, unique, unsplit, which.max, which.min\n",
      "\n",
      "\n",
      "Loading required package: S4Vectors\n",
      "\n",
      "\n",
      "Attaching package: ‘S4Vectors’\n",
      "\n",
      "\n",
      "The following objects are masked from ‘package:lubridate’:\n",
      "\n",
      "    second, second<-\n",
      "\n",
      "\n",
      "The following objects are masked from ‘package:dplyr’:\n",
      "\n",
      "    first, rename\n",
      "\n",
      "\n",
      "The following object is masked from ‘package:tidyr’:\n",
      "\n",
      "    expand\n",
      "\n",
      "\n",
      "The following objects are masked from ‘package:base’:\n",
      "\n",
      "    expand.grid, I, unname\n",
      "\n",
      "\n",
      "Loading required package: IRanges\n",
      "\n",
      "\n",
      "Attaching package: ‘IRanges’\n",
      "\n",
      "\n",
      "The following object is masked from ‘package:lubridate’:\n",
      "\n",
      "    %within%\n",
      "\n",
      "\n",
      "The following objects are masked from ‘package:dplyr’:\n",
      "\n",
      "    collapse, desc, slice\n",
      "\n",
      "\n",
      "The following object is masked from ‘package:purrr’:\n",
      "\n",
      "    reduce\n",
      "\n",
      "\n",
      "Loading required package: GenomeInfoDb\n",
      "\n",
      "\n",
      "Attaching package: ‘GenomicRanges’\n",
      "\n",
      "\n",
      "The following object is masked from ‘package:magrittr’:\n",
      "\n",
      "    subtract\n",
      "\n",
      "\n",
      "Loading required package: Biobase\n",
      "\n",
      "Welcome to Bioconductor\n",
      "\n",
      "    Vignettes contain introductory material; view with\n",
      "    'browseVignettes()'. To cite Bioconductor, see\n",
      "    'citation(\"Biobase\")', and for packages 'citation(\"pkgname\")'.\n",
      "\n",
      "\n",
      "\n",
      "Attaching package: ‘Biobase’\n",
      "\n",
      "\n",
      "The following object is masked from ‘package:MatrixGenerics’:\n",
      "\n",
      "    rowMedians\n",
      "\n",
      "\n",
      "The following objects are masked from ‘package:matrixStats’:\n",
      "\n",
      "    anyMissing, rowMedians\n",
      "\n",
      "\n",
      "Warning message:\n",
      "“multiple methods tables found for ‘aperm’”\n",
      "Warning message:\n",
      "“replacing previous import ‘BiocGenerics::aperm’ by ‘DelayedArray::aperm’ when loading ‘SummarizedExperiment’”\n",
      "Warning message:\n",
      "“replacing previous import ‘BiocGenerics::aperm’ by ‘DelayedArray::aperm’ when loading ‘HDF5Array’”\n"
     ]
    }
   ],
   "source": [
    "library(tidyverse)\n",
    "library(magrittr)\n",
    "library(patchwork)\n",
    "\n",
    "theme_set(theme_bw())\n",
    "\n",
    "library(SingleCellExperiment)\n",
    "library(batchelor)\n",
    "library(multisce)\n",
    "library(scutility)\n",
    "\n",
    "seed <- 124\n",
    "set.seed(seed)"
   ]
  },
  {
   "cell_type": "code",
   "execution_count": 2,
   "id": "ae2cbfeb",
   "metadata": {},
   "outputs": [
    {
     "data": {
      "text/html": [
       "<style>\n",
       ".dl-inline {width: auto; margin:0; padding: 0}\n",
       ".dl-inline>dt, .dl-inline>dd {float: none; width: auto; display: inline-block}\n",
       ".dl-inline>dt::after {content: \":\\0020\"; padding-right: .5ex}\n",
       ".dl-inline>dt:not(:first-of-type) {padding-left: .5ex}\n",
       "</style><dl class=dl-inline><dt>Gaydosik2022_HC1_HC2</dt><dd>'/home/tbb/git/CTCL_KC_SA_presentation/data/multisce/Gaydosik2022_HC1_HC2'</dd><dt>Gaydosik2022_HC3_HC4</dt><dd>'/home/tbb/git/CTCL_KC_SA_presentation/data/multisce/Gaydosik2022_HC3_HC4'</dd><dt>Gaydosik2022_MF17</dt><dd>'/home/tbb/git/CTCL_KC_SA_presentation/data/multisce/Gaydosik2022_MF17'</dd><dt>Gaydosik2022_MF18</dt><dd>'/home/tbb/git/CTCL_KC_SA_presentation/data/multisce/Gaydosik2022_MF18'</dd><dt>Gaydosik2022_MF19</dt><dd>'/home/tbb/git/CTCL_KC_SA_presentation/data/multisce/Gaydosik2022_MF19'</dd><dt>Gaydosik2022_MF21</dt><dd>'/home/tbb/git/CTCL_KC_SA_presentation/data/multisce/Gaydosik2022_MF21'</dd><dt>Gaydosik2022_MF24</dt><dd>'/home/tbb/git/CTCL_KC_SA_presentation/data/multisce/Gaydosik2022_MF24'</dd><dt>Gaydosik2023_HC1</dt><dd>'/home/tbb/git/CTCL_KC_SA_presentation/data/multisce/Gaydosik2023_HC1'</dd><dt>Gaydosik2023_HC2</dt><dd>'/home/tbb/git/CTCL_KC_SA_presentation/data/multisce/Gaydosik2023_HC2'</dd><dt>Gaydosik2023_HC3</dt><dd>'/home/tbb/git/CTCL_KC_SA_presentation/data/multisce/Gaydosik2023_HC3'</dd><dt>Gaydosik2023_HC4</dt><dd>'/home/tbb/git/CTCL_KC_SA_presentation/data/multisce/Gaydosik2023_HC4'</dd><dt>Gaydosik2023_HC5</dt><dd>'/home/tbb/git/CTCL_KC_SA_presentation/data/multisce/Gaydosik2023_HC5'</dd><dt>Gaydosik2023_HC6</dt><dd>'/home/tbb/git/CTCL_KC_SA_presentation/data/multisce/Gaydosik2023_HC6'</dd><dt>Gaydosik2023_HC7</dt><dd>'/home/tbb/git/CTCL_KC_SA_presentation/data/multisce/Gaydosik2023_HC7'</dd><dt>Gaydosik2023_HC8</dt><dd>'/home/tbb/git/CTCL_KC_SA_presentation/data/multisce/Gaydosik2023_HC8'</dd><dt>Gaydosik2023_HC9</dt><dd>'/home/tbb/git/CTCL_KC_SA_presentation/data/multisce/Gaydosik2023_HC9'</dd><dt>Gaydosik2023_MF12</dt><dd>'/home/tbb/git/CTCL_KC_SA_presentation/data/multisce/Gaydosik2023_MF12'</dd><dt>Gaydosik2023_MF6</dt><dd>'/home/tbb/git/CTCL_KC_SA_presentation/data/multisce/Gaydosik2023_MF6'</dd><dt>Gaydosik2023_MF8</dt><dd>'/home/tbb/git/CTCL_KC_SA_presentation/data/multisce/Gaydosik2023_MF8'</dd><dt>Rindler2021a_skin</dt><dd>'/home/tbb/git/CTCL_KC_SA_presentation/data/multisce/Rindler2021a_skin'</dd><dt>Rindler2021b_MF309_followup</dt><dd>'/home/tbb/git/CTCL_KC_SA_presentation/data/multisce/Rindler2021b_MF309_followup'</dd><dt>Rindler2021b_MF309_thick</dt><dd>'/home/tbb/git/CTCL_KC_SA_presentation/data/multisce/Rindler2021b_MF309_thick'</dd><dt>Rindler2021b_MF309_thin</dt><dd>'/home/tbb/git/CTCL_KC_SA_presentation/data/multisce/Rindler2021b_MF309_thin'</dd><dt>Rindler2021b_MF311_followup</dt><dd>'/home/tbb/git/CTCL_KC_SA_presentation/data/multisce/Rindler2021b_MF311_followup'</dd><dt>Rindler2021b_MF311_thick</dt><dd>'/home/tbb/git/CTCL_KC_SA_presentation/data/multisce/Rindler2021b_MF311_thick'</dd><dt>Rindler2021b_MF311_thin</dt><dd>'/home/tbb/git/CTCL_KC_SA_presentation/data/multisce/Rindler2021b_MF311_thin'</dd><dt>Rindler2021b_MF312_thick</dt><dd>'/home/tbb/git/CTCL_KC_SA_presentation/data/multisce/Rindler2021b_MF312_thick'</dd><dt>Rindler2021b_MF312_thin</dt><dd>'/home/tbb/git/CTCL_KC_SA_presentation/data/multisce/Rindler2021b_MF312_thin'</dd><dt>Rindler2021b_MF318_thick</dt><dd>'/home/tbb/git/CTCL_KC_SA_presentation/data/multisce/Rindler2021b_MF318_thick'</dd><dt>Rindler2021b_MF318_thin</dt><dd>'/home/tbb/git/CTCL_KC_SA_presentation/data/multisce/Rindler2021b_MF318_thin'</dd><dt>Rindler2021b_P107_early</dt><dd>'/home/tbb/git/CTCL_KC_SA_presentation/data/multisce/Rindler2021b_P107_early'</dd><dt>Rindler2021b_P112_HC</dt><dd>'/home/tbb/git/CTCL_KC_SA_presentation/data/multisce/Rindler2021b_P112_HC'</dd><dt>Rindler2021b_P115_HC</dt><dd>'/home/tbb/git/CTCL_KC_SA_presentation/data/multisce/Rindler2021b_P115_HC'</dd><dt>Rindler2021b_P116_HC</dt><dd>'/home/tbb/git/CTCL_KC_SA_presentation/data/multisce/Rindler2021b_P116_HC'</dd><dt>Rindler2021b_P121_HC</dt><dd>'/home/tbb/git/CTCL_KC_SA_presentation/data/multisce/Rindler2021b_P121_HC'</dd><dt>Rindler2021b_P138_early</dt><dd>'/home/tbb/git/CTCL_KC_SA_presentation/data/multisce/Rindler2021b_P138_early'</dd><dt>Rindler2021b_P65_lesional</dt><dd>'/home/tbb/git/CTCL_KC_SA_presentation/data/multisce/Rindler2021b_P65_lesional'</dd><dt>Rindler2021b_P84_lesional</dt><dd>'/home/tbb/git/CTCL_KC_SA_presentation/data/multisce/Rindler2021b_P84_lesional'</dd><dt>Rindler2021b_P90_lesional</dt><dd>'/home/tbb/git/CTCL_KC_SA_presentation/data/multisce/Rindler2021b_P90_lesional'</dd></dl>\n"
      ],
      "text/latex": [
       "\\begin{description*}\n",
       "\\item[Gaydosik2022\\textbackslash{}\\_HC1\\textbackslash{}\\_HC2] '/home/tbb/git/CTCL\\_KC\\_SA\\_presentation/data/multisce/Gaydosik2022\\_HC1\\_HC2'\n",
       "\\item[Gaydosik2022\\textbackslash{}\\_HC3\\textbackslash{}\\_HC4] '/home/tbb/git/CTCL\\_KC\\_SA\\_presentation/data/multisce/Gaydosik2022\\_HC3\\_HC4'\n",
       "\\item[Gaydosik2022\\textbackslash{}\\_MF17] '/home/tbb/git/CTCL\\_KC\\_SA\\_presentation/data/multisce/Gaydosik2022\\_MF17'\n",
       "\\item[Gaydosik2022\\textbackslash{}\\_MF18] '/home/tbb/git/CTCL\\_KC\\_SA\\_presentation/data/multisce/Gaydosik2022\\_MF18'\n",
       "\\item[Gaydosik2022\\textbackslash{}\\_MF19] '/home/tbb/git/CTCL\\_KC\\_SA\\_presentation/data/multisce/Gaydosik2022\\_MF19'\n",
       "\\item[Gaydosik2022\\textbackslash{}\\_MF21] '/home/tbb/git/CTCL\\_KC\\_SA\\_presentation/data/multisce/Gaydosik2022\\_MF21'\n",
       "\\item[Gaydosik2022\\textbackslash{}\\_MF24] '/home/tbb/git/CTCL\\_KC\\_SA\\_presentation/data/multisce/Gaydosik2022\\_MF24'\n",
       "\\item[Gaydosik2023\\textbackslash{}\\_HC1] '/home/tbb/git/CTCL\\_KC\\_SA\\_presentation/data/multisce/Gaydosik2023\\_HC1'\n",
       "\\item[Gaydosik2023\\textbackslash{}\\_HC2] '/home/tbb/git/CTCL\\_KC\\_SA\\_presentation/data/multisce/Gaydosik2023\\_HC2'\n",
       "\\item[Gaydosik2023\\textbackslash{}\\_HC3] '/home/tbb/git/CTCL\\_KC\\_SA\\_presentation/data/multisce/Gaydosik2023\\_HC3'\n",
       "\\item[Gaydosik2023\\textbackslash{}\\_HC4] '/home/tbb/git/CTCL\\_KC\\_SA\\_presentation/data/multisce/Gaydosik2023\\_HC4'\n",
       "\\item[Gaydosik2023\\textbackslash{}\\_HC5] '/home/tbb/git/CTCL\\_KC\\_SA\\_presentation/data/multisce/Gaydosik2023\\_HC5'\n",
       "\\item[Gaydosik2023\\textbackslash{}\\_HC6] '/home/tbb/git/CTCL\\_KC\\_SA\\_presentation/data/multisce/Gaydosik2023\\_HC6'\n",
       "\\item[Gaydosik2023\\textbackslash{}\\_HC7] '/home/tbb/git/CTCL\\_KC\\_SA\\_presentation/data/multisce/Gaydosik2023\\_HC7'\n",
       "\\item[Gaydosik2023\\textbackslash{}\\_HC8] '/home/tbb/git/CTCL\\_KC\\_SA\\_presentation/data/multisce/Gaydosik2023\\_HC8'\n",
       "\\item[Gaydosik2023\\textbackslash{}\\_HC9] '/home/tbb/git/CTCL\\_KC\\_SA\\_presentation/data/multisce/Gaydosik2023\\_HC9'\n",
       "\\item[Gaydosik2023\\textbackslash{}\\_MF12] '/home/tbb/git/CTCL\\_KC\\_SA\\_presentation/data/multisce/Gaydosik2023\\_MF12'\n",
       "\\item[Gaydosik2023\\textbackslash{}\\_MF6] '/home/tbb/git/CTCL\\_KC\\_SA\\_presentation/data/multisce/Gaydosik2023\\_MF6'\n",
       "\\item[Gaydosik2023\\textbackslash{}\\_MF8] '/home/tbb/git/CTCL\\_KC\\_SA\\_presentation/data/multisce/Gaydosik2023\\_MF8'\n",
       "\\item[Rindler2021a\\textbackslash{}\\_skin] '/home/tbb/git/CTCL\\_KC\\_SA\\_presentation/data/multisce/Rindler2021a\\_skin'\n",
       "\\item[Rindler2021b\\textbackslash{}\\_MF309\\textbackslash{}\\_followup] '/home/tbb/git/CTCL\\_KC\\_SA\\_presentation/data/multisce/Rindler2021b\\_MF309\\_followup'\n",
       "\\item[Rindler2021b\\textbackslash{}\\_MF309\\textbackslash{}\\_thick] '/home/tbb/git/CTCL\\_KC\\_SA\\_presentation/data/multisce/Rindler2021b\\_MF309\\_thick'\n",
       "\\item[Rindler2021b\\textbackslash{}\\_MF309\\textbackslash{}\\_thin] '/home/tbb/git/CTCL\\_KC\\_SA\\_presentation/data/multisce/Rindler2021b\\_MF309\\_thin'\n",
       "\\item[Rindler2021b\\textbackslash{}\\_MF311\\textbackslash{}\\_followup] '/home/tbb/git/CTCL\\_KC\\_SA\\_presentation/data/multisce/Rindler2021b\\_MF311\\_followup'\n",
       "\\item[Rindler2021b\\textbackslash{}\\_MF311\\textbackslash{}\\_thick] '/home/tbb/git/CTCL\\_KC\\_SA\\_presentation/data/multisce/Rindler2021b\\_MF311\\_thick'\n",
       "\\item[Rindler2021b\\textbackslash{}\\_MF311\\textbackslash{}\\_thin] '/home/tbb/git/CTCL\\_KC\\_SA\\_presentation/data/multisce/Rindler2021b\\_MF311\\_thin'\n",
       "\\item[Rindler2021b\\textbackslash{}\\_MF312\\textbackslash{}\\_thick] '/home/tbb/git/CTCL\\_KC\\_SA\\_presentation/data/multisce/Rindler2021b\\_MF312\\_thick'\n",
       "\\item[Rindler2021b\\textbackslash{}\\_MF312\\textbackslash{}\\_thin] '/home/tbb/git/CTCL\\_KC\\_SA\\_presentation/data/multisce/Rindler2021b\\_MF312\\_thin'\n",
       "\\item[Rindler2021b\\textbackslash{}\\_MF318\\textbackslash{}\\_thick] '/home/tbb/git/CTCL\\_KC\\_SA\\_presentation/data/multisce/Rindler2021b\\_MF318\\_thick'\n",
       "\\item[Rindler2021b\\textbackslash{}\\_MF318\\textbackslash{}\\_thin] '/home/tbb/git/CTCL\\_KC\\_SA\\_presentation/data/multisce/Rindler2021b\\_MF318\\_thin'\n",
       "\\item[Rindler2021b\\textbackslash{}\\_P107\\textbackslash{}\\_early] '/home/tbb/git/CTCL\\_KC\\_SA\\_presentation/data/multisce/Rindler2021b\\_P107\\_early'\n",
       "\\item[Rindler2021b\\textbackslash{}\\_P112\\textbackslash{}\\_HC] '/home/tbb/git/CTCL\\_KC\\_SA\\_presentation/data/multisce/Rindler2021b\\_P112\\_HC'\n",
       "\\item[Rindler2021b\\textbackslash{}\\_P115\\textbackslash{}\\_HC] '/home/tbb/git/CTCL\\_KC\\_SA\\_presentation/data/multisce/Rindler2021b\\_P115\\_HC'\n",
       "\\item[Rindler2021b\\textbackslash{}\\_P116\\textbackslash{}\\_HC] '/home/tbb/git/CTCL\\_KC\\_SA\\_presentation/data/multisce/Rindler2021b\\_P116\\_HC'\n",
       "\\item[Rindler2021b\\textbackslash{}\\_P121\\textbackslash{}\\_HC] '/home/tbb/git/CTCL\\_KC\\_SA\\_presentation/data/multisce/Rindler2021b\\_P121\\_HC'\n",
       "\\item[Rindler2021b\\textbackslash{}\\_P138\\textbackslash{}\\_early] '/home/tbb/git/CTCL\\_KC\\_SA\\_presentation/data/multisce/Rindler2021b\\_P138\\_early'\n",
       "\\item[Rindler2021b\\textbackslash{}\\_P65\\textbackslash{}\\_lesional] '/home/tbb/git/CTCL\\_KC\\_SA\\_presentation/data/multisce/Rindler2021b\\_P65\\_lesional'\n",
       "\\item[Rindler2021b\\textbackslash{}\\_P84\\textbackslash{}\\_lesional] '/home/tbb/git/CTCL\\_KC\\_SA\\_presentation/data/multisce/Rindler2021b\\_P84\\_lesional'\n",
       "\\item[Rindler2021b\\textbackslash{}\\_P90\\textbackslash{}\\_lesional] '/home/tbb/git/CTCL\\_KC\\_SA\\_presentation/data/multisce/Rindler2021b\\_P90\\_lesional'\n",
       "\\end{description*}\n"
      ],
      "text/markdown": [
       "Gaydosik2022_HC1_HC2\n",
       ":   '/home/tbb/git/CTCL_KC_SA_presentation/data/multisce/Gaydosik2022_HC1_HC2'Gaydosik2022_HC3_HC4\n",
       ":   '/home/tbb/git/CTCL_KC_SA_presentation/data/multisce/Gaydosik2022_HC3_HC4'Gaydosik2022_MF17\n",
       ":   '/home/tbb/git/CTCL_KC_SA_presentation/data/multisce/Gaydosik2022_MF17'Gaydosik2022_MF18\n",
       ":   '/home/tbb/git/CTCL_KC_SA_presentation/data/multisce/Gaydosik2022_MF18'Gaydosik2022_MF19\n",
       ":   '/home/tbb/git/CTCL_KC_SA_presentation/data/multisce/Gaydosik2022_MF19'Gaydosik2022_MF21\n",
       ":   '/home/tbb/git/CTCL_KC_SA_presentation/data/multisce/Gaydosik2022_MF21'Gaydosik2022_MF24\n",
       ":   '/home/tbb/git/CTCL_KC_SA_presentation/data/multisce/Gaydosik2022_MF24'Gaydosik2023_HC1\n",
       ":   '/home/tbb/git/CTCL_KC_SA_presentation/data/multisce/Gaydosik2023_HC1'Gaydosik2023_HC2\n",
       ":   '/home/tbb/git/CTCL_KC_SA_presentation/data/multisce/Gaydosik2023_HC2'Gaydosik2023_HC3\n",
       ":   '/home/tbb/git/CTCL_KC_SA_presentation/data/multisce/Gaydosik2023_HC3'Gaydosik2023_HC4\n",
       ":   '/home/tbb/git/CTCL_KC_SA_presentation/data/multisce/Gaydosik2023_HC4'Gaydosik2023_HC5\n",
       ":   '/home/tbb/git/CTCL_KC_SA_presentation/data/multisce/Gaydosik2023_HC5'Gaydosik2023_HC6\n",
       ":   '/home/tbb/git/CTCL_KC_SA_presentation/data/multisce/Gaydosik2023_HC6'Gaydosik2023_HC7\n",
       ":   '/home/tbb/git/CTCL_KC_SA_presentation/data/multisce/Gaydosik2023_HC7'Gaydosik2023_HC8\n",
       ":   '/home/tbb/git/CTCL_KC_SA_presentation/data/multisce/Gaydosik2023_HC8'Gaydosik2023_HC9\n",
       ":   '/home/tbb/git/CTCL_KC_SA_presentation/data/multisce/Gaydosik2023_HC9'Gaydosik2023_MF12\n",
       ":   '/home/tbb/git/CTCL_KC_SA_presentation/data/multisce/Gaydosik2023_MF12'Gaydosik2023_MF6\n",
       ":   '/home/tbb/git/CTCL_KC_SA_presentation/data/multisce/Gaydosik2023_MF6'Gaydosik2023_MF8\n",
       ":   '/home/tbb/git/CTCL_KC_SA_presentation/data/multisce/Gaydosik2023_MF8'Rindler2021a_skin\n",
       ":   '/home/tbb/git/CTCL_KC_SA_presentation/data/multisce/Rindler2021a_skin'Rindler2021b_MF309_followup\n",
       ":   '/home/tbb/git/CTCL_KC_SA_presentation/data/multisce/Rindler2021b_MF309_followup'Rindler2021b_MF309_thick\n",
       ":   '/home/tbb/git/CTCL_KC_SA_presentation/data/multisce/Rindler2021b_MF309_thick'Rindler2021b_MF309_thin\n",
       ":   '/home/tbb/git/CTCL_KC_SA_presentation/data/multisce/Rindler2021b_MF309_thin'Rindler2021b_MF311_followup\n",
       ":   '/home/tbb/git/CTCL_KC_SA_presentation/data/multisce/Rindler2021b_MF311_followup'Rindler2021b_MF311_thick\n",
       ":   '/home/tbb/git/CTCL_KC_SA_presentation/data/multisce/Rindler2021b_MF311_thick'Rindler2021b_MF311_thin\n",
       ":   '/home/tbb/git/CTCL_KC_SA_presentation/data/multisce/Rindler2021b_MF311_thin'Rindler2021b_MF312_thick\n",
       ":   '/home/tbb/git/CTCL_KC_SA_presentation/data/multisce/Rindler2021b_MF312_thick'Rindler2021b_MF312_thin\n",
       ":   '/home/tbb/git/CTCL_KC_SA_presentation/data/multisce/Rindler2021b_MF312_thin'Rindler2021b_MF318_thick\n",
       ":   '/home/tbb/git/CTCL_KC_SA_presentation/data/multisce/Rindler2021b_MF318_thick'Rindler2021b_MF318_thin\n",
       ":   '/home/tbb/git/CTCL_KC_SA_presentation/data/multisce/Rindler2021b_MF318_thin'Rindler2021b_P107_early\n",
       ":   '/home/tbb/git/CTCL_KC_SA_presentation/data/multisce/Rindler2021b_P107_early'Rindler2021b_P112_HC\n",
       ":   '/home/tbb/git/CTCL_KC_SA_presentation/data/multisce/Rindler2021b_P112_HC'Rindler2021b_P115_HC\n",
       ":   '/home/tbb/git/CTCL_KC_SA_presentation/data/multisce/Rindler2021b_P115_HC'Rindler2021b_P116_HC\n",
       ":   '/home/tbb/git/CTCL_KC_SA_presentation/data/multisce/Rindler2021b_P116_HC'Rindler2021b_P121_HC\n",
       ":   '/home/tbb/git/CTCL_KC_SA_presentation/data/multisce/Rindler2021b_P121_HC'Rindler2021b_P138_early\n",
       ":   '/home/tbb/git/CTCL_KC_SA_presentation/data/multisce/Rindler2021b_P138_early'Rindler2021b_P65_lesional\n",
       ":   '/home/tbb/git/CTCL_KC_SA_presentation/data/multisce/Rindler2021b_P65_lesional'Rindler2021b_P84_lesional\n",
       ":   '/home/tbb/git/CTCL_KC_SA_presentation/data/multisce/Rindler2021b_P84_lesional'Rindler2021b_P90_lesional\n",
       ":   '/home/tbb/git/CTCL_KC_SA_presentation/data/multisce/Rindler2021b_P90_lesional'\n",
       "\n"
      ],
      "text/plain": [
       "                                                             Gaydosik2022_HC1_HC2 \n",
       "       \"/home/tbb/git/CTCL_KC_SA_presentation/data/multisce/Gaydosik2022_HC1_HC2\" \n",
       "                                                             Gaydosik2022_HC3_HC4 \n",
       "       \"/home/tbb/git/CTCL_KC_SA_presentation/data/multisce/Gaydosik2022_HC3_HC4\" \n",
       "                                                                Gaydosik2022_MF17 \n",
       "          \"/home/tbb/git/CTCL_KC_SA_presentation/data/multisce/Gaydosik2022_MF17\" \n",
       "                                                                Gaydosik2022_MF18 \n",
       "          \"/home/tbb/git/CTCL_KC_SA_presentation/data/multisce/Gaydosik2022_MF18\" \n",
       "                                                                Gaydosik2022_MF19 \n",
       "          \"/home/tbb/git/CTCL_KC_SA_presentation/data/multisce/Gaydosik2022_MF19\" \n",
       "                                                                Gaydosik2022_MF21 \n",
       "          \"/home/tbb/git/CTCL_KC_SA_presentation/data/multisce/Gaydosik2022_MF21\" \n",
       "                                                                Gaydosik2022_MF24 \n",
       "          \"/home/tbb/git/CTCL_KC_SA_presentation/data/multisce/Gaydosik2022_MF24\" \n",
       "                                                                 Gaydosik2023_HC1 \n",
       "           \"/home/tbb/git/CTCL_KC_SA_presentation/data/multisce/Gaydosik2023_HC1\" \n",
       "                                                                 Gaydosik2023_HC2 \n",
       "           \"/home/tbb/git/CTCL_KC_SA_presentation/data/multisce/Gaydosik2023_HC2\" \n",
       "                                                                 Gaydosik2023_HC3 \n",
       "           \"/home/tbb/git/CTCL_KC_SA_presentation/data/multisce/Gaydosik2023_HC3\" \n",
       "                                                                 Gaydosik2023_HC4 \n",
       "           \"/home/tbb/git/CTCL_KC_SA_presentation/data/multisce/Gaydosik2023_HC4\" \n",
       "                                                                 Gaydosik2023_HC5 \n",
       "           \"/home/tbb/git/CTCL_KC_SA_presentation/data/multisce/Gaydosik2023_HC5\" \n",
       "                                                                 Gaydosik2023_HC6 \n",
       "           \"/home/tbb/git/CTCL_KC_SA_presentation/data/multisce/Gaydosik2023_HC6\" \n",
       "                                                                 Gaydosik2023_HC7 \n",
       "           \"/home/tbb/git/CTCL_KC_SA_presentation/data/multisce/Gaydosik2023_HC7\" \n",
       "                                                                 Gaydosik2023_HC8 \n",
       "           \"/home/tbb/git/CTCL_KC_SA_presentation/data/multisce/Gaydosik2023_HC8\" \n",
       "                                                                 Gaydosik2023_HC9 \n",
       "           \"/home/tbb/git/CTCL_KC_SA_presentation/data/multisce/Gaydosik2023_HC9\" \n",
       "                                                                Gaydosik2023_MF12 \n",
       "          \"/home/tbb/git/CTCL_KC_SA_presentation/data/multisce/Gaydosik2023_MF12\" \n",
       "                                                                 Gaydosik2023_MF6 \n",
       "           \"/home/tbb/git/CTCL_KC_SA_presentation/data/multisce/Gaydosik2023_MF6\" \n",
       "                                                                 Gaydosik2023_MF8 \n",
       "           \"/home/tbb/git/CTCL_KC_SA_presentation/data/multisce/Gaydosik2023_MF8\" \n",
       "                                                                Rindler2021a_skin \n",
       "          \"/home/tbb/git/CTCL_KC_SA_presentation/data/multisce/Rindler2021a_skin\" \n",
       "                                                      Rindler2021b_MF309_followup \n",
       "\"/home/tbb/git/CTCL_KC_SA_presentation/data/multisce/Rindler2021b_MF309_followup\" \n",
       "                                                         Rindler2021b_MF309_thick \n",
       "   \"/home/tbb/git/CTCL_KC_SA_presentation/data/multisce/Rindler2021b_MF309_thick\" \n",
       "                                                          Rindler2021b_MF309_thin \n",
       "    \"/home/tbb/git/CTCL_KC_SA_presentation/data/multisce/Rindler2021b_MF309_thin\" \n",
       "                                                      Rindler2021b_MF311_followup \n",
       "\"/home/tbb/git/CTCL_KC_SA_presentation/data/multisce/Rindler2021b_MF311_followup\" \n",
       "                                                         Rindler2021b_MF311_thick \n",
       "   \"/home/tbb/git/CTCL_KC_SA_presentation/data/multisce/Rindler2021b_MF311_thick\" \n",
       "                                                          Rindler2021b_MF311_thin \n",
       "    \"/home/tbb/git/CTCL_KC_SA_presentation/data/multisce/Rindler2021b_MF311_thin\" \n",
       "                                                         Rindler2021b_MF312_thick \n",
       "   \"/home/tbb/git/CTCL_KC_SA_presentation/data/multisce/Rindler2021b_MF312_thick\" \n",
       "                                                          Rindler2021b_MF312_thin \n",
       "    \"/home/tbb/git/CTCL_KC_SA_presentation/data/multisce/Rindler2021b_MF312_thin\" \n",
       "                                                         Rindler2021b_MF318_thick \n",
       "   \"/home/tbb/git/CTCL_KC_SA_presentation/data/multisce/Rindler2021b_MF318_thick\" \n",
       "                                                          Rindler2021b_MF318_thin \n",
       "    \"/home/tbb/git/CTCL_KC_SA_presentation/data/multisce/Rindler2021b_MF318_thin\" \n",
       "                                                          Rindler2021b_P107_early \n",
       "    \"/home/tbb/git/CTCL_KC_SA_presentation/data/multisce/Rindler2021b_P107_early\" \n",
       "                                                             Rindler2021b_P112_HC \n",
       "       \"/home/tbb/git/CTCL_KC_SA_presentation/data/multisce/Rindler2021b_P112_HC\" \n",
       "                                                             Rindler2021b_P115_HC \n",
       "       \"/home/tbb/git/CTCL_KC_SA_presentation/data/multisce/Rindler2021b_P115_HC\" \n",
       "                                                             Rindler2021b_P116_HC \n",
       "       \"/home/tbb/git/CTCL_KC_SA_presentation/data/multisce/Rindler2021b_P116_HC\" \n",
       "                                                             Rindler2021b_P121_HC \n",
       "       \"/home/tbb/git/CTCL_KC_SA_presentation/data/multisce/Rindler2021b_P121_HC\" \n",
       "                                                          Rindler2021b_P138_early \n",
       "    \"/home/tbb/git/CTCL_KC_SA_presentation/data/multisce/Rindler2021b_P138_early\" \n",
       "                                                        Rindler2021b_P65_lesional \n",
       "  \"/home/tbb/git/CTCL_KC_SA_presentation/data/multisce/Rindler2021b_P65_lesional\" \n",
       "                                                        Rindler2021b_P84_lesional \n",
       "  \"/home/tbb/git/CTCL_KC_SA_presentation/data/multisce/Rindler2021b_P84_lesional\" \n",
       "                                                        Rindler2021b_P90_lesional \n",
       "  \"/home/tbb/git/CTCL_KC_SA_presentation/data/multisce/Rindler2021b_P90_lesional\" "
      ]
     },
     "metadata": {},
     "output_type": "display_data"
    }
   ],
   "source": [
    "path_multisce <- dir(here::here(\"data\", \"multisce\"), pattern=\"_\", full.names=TRUE) %>% setNames(., basename(.))\n",
    "path_multisce %<>% .[grep(\"^skin_\", names(.), invert=TRUE)]\n",
    "path_multisce"
   ]
  },
  {
   "cell_type": "code",
   "execution_count": 3,
   "id": "0a2b3c6e",
   "metadata": {},
   "outputs": [],
   "source": [
    "runs <- names(path_multisce) %>% factor()"
   ]
  },
  {
   "cell_type": "markdown",
   "id": "c6df348c",
   "metadata": {},
   "source": [
    "# Merge cell annotations"
   ]
  },
  {
   "cell_type": "code",
   "execution_count": 4,
   "id": "e8dad685",
   "metadata": {},
   "outputs": [],
   "source": [
    "coldata_list <- pmap(list(path_multisce, as.numeric(runs), runs), function(path, runID, run){\n",
    "    coldata <- readRDS(here::here(path, \"coldata.rds\"))\n",
    "    study <- gsub(\"^([A-Za-z0-9]+)_.*\", \"\\\\1\", run)\n",
    "    \n",
    "    donor <- gsub(\".*_(MF|P|PT|CTCL)([0-9]+).*\", \"\\\\1\\\\2\", run)\n",
    "    if(donor == run){\n",
    "        donor <- gsub(\".*_(SZ[0-9]+).*\", \"\\\\1\", run)\n",
    "    }\n",
    "    if(donor != run){\n",
    "        donor %<>% paste(study, ., sep=\"_\")\n",
    "    }\n",
    "    \n",
    "    rownames(coldata) %<>% paste(runID, sep=\"_\")\n",
    "    coldata$study <- study\n",
    "    coldata$donor <- donor    \n",
    "    \n",
    "    return(coldata)\n",
    "})"
   ]
  },
  {
   "cell_type": "code",
   "execution_count": 5,
   "id": "1f2b9c1f",
   "metadata": {},
   "outputs": [],
   "source": [
    "# Get a collection of included colnames but remove \"run\" as we will add this below\n",
    "coldata_names <- map(coldata_list, colnames) %>% Reduce(union, .) %>% setdiff(c(\"run\"))"
   ]
  },
  {
   "cell_type": "code",
   "execution_count": 6,
   "id": "be29a0b3",
   "metadata": {},
   "outputs": [
    {
     "data": {
      "text/html": [
       "<table class=\"dataframe\">\n",
       "<caption>A data.frame: 6 × 183</caption>\n",
       "<thead>\n",
       "\t<tr><th></th><th scope=col>run</th><th scope=col>sum</th><th scope=col>detected</th><th scope=col>subsets_Mito_sum</th><th scope=col>subsets_Mito_detected</th><th scope=col>subsets_Mito_percent</th><th scope=col>total</th><th scope=col>sizeFactor</th><th scope=col>louvain</th><th scope=col>cluster</th><th scope=col>⋯</th><th scope=col>Multi.2.j_gene</th><th scope=col>Multi.2.c_gene</th><th scope=col>Multi.2.cdr3</th><th scope=col>Multi.2.cdr3_nt</th><th scope=col>Multi.2.umis</th><th scope=col>Multi.2.reads</th><th scope=col>Multi.2.high_confidence</th><th scope=col>Multi.2.productive</th><th scope=col>Multi.2.full_length</th><th scope=col>Multi.2.raw_clonotype_id</th></tr>\n",
       "\t<tr><th></th><th scope=col>&lt;fct&gt;</th><th scope=col>&lt;dbl&gt;</th><th scope=col>&lt;int&gt;</th><th scope=col>&lt;dbl&gt;</th><th scope=col>&lt;int&gt;</th><th scope=col>&lt;dbl&gt;</th><th scope=col>&lt;dbl&gt;</th><th scope=col>&lt;dbl&gt;</th><th scope=col>&lt;fct&gt;</th><th scope=col>&lt;fct&gt;</th><th scope=col>⋯</th><th scope=col>&lt;fct&gt;</th><th scope=col>&lt;fct&gt;</th><th scope=col>&lt;fct&gt;</th><th scope=col>&lt;fct&gt;</th><th scope=col>&lt;int&gt;</th><th scope=col>&lt;int&gt;</th><th scope=col>&lt;lgl&gt;</th><th scope=col>&lt;lgl&gt;</th><th scope=col>&lt;lgl&gt;</th><th scope=col>&lt;fct&gt;</th></tr>\n",
       "</thead>\n",
       "<tbody>\n",
       "\t<tr><th scope=row>AAACCTGAGACAAGCC-1_1</th><td>Gaydosik2022_HC1_HC2</td><td> 9979</td><td>3090</td><td> 225</td><td>12</td><td>2.254735</td><td> 9979</td><td>2.3317655</td><td>1</td><td>1</td><td>⋯</td><td>NA</td><td>NA</td><td>NA</td><td>NA</td><td>NA</td><td>NA</td><td>NA</td><td>NA</td><td>NA</td><td>NA</td></tr>\n",
       "\t<tr><th scope=row>AAACCTGAGCTAGTTC-1_1</th><td>Gaydosik2022_HC1_HC2</td><td>  820</td><td> 474</td><td>  48</td><td>11</td><td>5.853659</td><td>  820</td><td>0.1916071</td><td>2</td><td>2</td><td>⋯</td><td>NA</td><td>NA</td><td>NA</td><td>NA</td><td>NA</td><td>NA</td><td>NA</td><td>NA</td><td>NA</td><td>NA</td></tr>\n",
       "\t<tr><th scope=row>AAACCTGCAACGATGG-1_1</th><td>Gaydosik2022_HC1_HC2</td><td> 4914</td><td>1745</td><td> 320</td><td>12</td><td>6.512007</td><td> 4914</td><td>1.1482409</td><td>3</td><td>3</td><td>⋯</td><td>NA</td><td>NA</td><td>NA</td><td>NA</td><td>NA</td><td>NA</td><td>NA</td><td>NA</td><td>NA</td><td>NA</td></tr>\n",
       "\t<tr><th scope=row>AAACCTGCAATGAATG-1_1</th><td>Gaydosik2022_HC1_HC2</td><td> 1022</td><td> 390</td><td>  43</td><td>11</td><td>4.207436</td><td> 1022</td><td>0.2388079</td><td>4</td><td>4</td><td>⋯</td><td>NA</td><td>NA</td><td>NA</td><td>NA</td><td>NA</td><td>NA</td><td>NA</td><td>NA</td><td>NA</td><td>NA</td></tr>\n",
       "\t<tr><th scope=row>AAACCTGTCTGGTTCC-1_1</th><td>Gaydosik2022_HC1_HC2</td><td>15873</td><td>2602</td><td> 600</td><td>13</td><td>3.780004</td><td>15873</td><td>3.7090003</td><td>4</td><td>4</td><td>⋯</td><td>NA</td><td>NA</td><td>NA</td><td>NA</td><td>NA</td><td>NA</td><td>NA</td><td>NA</td><td>NA</td><td>NA</td></tr>\n",
       "\t<tr><th scope=row>AAACGGGAGACGCAAC-1_1</th><td>Gaydosik2022_HC1_HC2</td><td>37802</td><td>4347</td><td>2522</td><td>12</td><td>6.671605</td><td>37802</td><td>8.8330895</td><td>4</td><td>4</td><td>⋯</td><td>NA</td><td>NA</td><td>NA</td><td>NA</td><td>NA</td><td>NA</td><td>NA</td><td>NA</td><td>NA</td><td>NA</td></tr>\n",
       "</tbody>\n",
       "</table>\n"
      ],
      "text/latex": [
       "A data.frame: 6 × 183\n",
       "\\begin{tabular}{r|lllllllllllllllllllll}\n",
       "  & run & sum & detected & subsets\\_Mito\\_sum & subsets\\_Mito\\_detected & subsets\\_Mito\\_percent & total & sizeFactor & louvain & cluster & ⋯ & Multi.2.j\\_gene & Multi.2.c\\_gene & Multi.2.cdr3 & Multi.2.cdr3\\_nt & Multi.2.umis & Multi.2.reads & Multi.2.high\\_confidence & Multi.2.productive & Multi.2.full\\_length & Multi.2.raw\\_clonotype\\_id\\\\\n",
       "  & <fct> & <dbl> & <int> & <dbl> & <int> & <dbl> & <dbl> & <dbl> & <fct> & <fct> & ⋯ & <fct> & <fct> & <fct> & <fct> & <int> & <int> & <lgl> & <lgl> & <lgl> & <fct>\\\\\n",
       "\\hline\n",
       "\tAAACCTGAGACAAGCC-1\\_1 & Gaydosik2022\\_HC1\\_HC2 &  9979 & 3090 &  225 & 12 & 2.254735 &  9979 & 2.3317655 & 1 & 1 & ⋯ & NA & NA & NA & NA & NA & NA & NA & NA & NA & NA\\\\\n",
       "\tAAACCTGAGCTAGTTC-1\\_1 & Gaydosik2022\\_HC1\\_HC2 &   820 &  474 &   48 & 11 & 5.853659 &   820 & 0.1916071 & 2 & 2 & ⋯ & NA & NA & NA & NA & NA & NA & NA & NA & NA & NA\\\\\n",
       "\tAAACCTGCAACGATGG-1\\_1 & Gaydosik2022\\_HC1\\_HC2 &  4914 & 1745 &  320 & 12 & 6.512007 &  4914 & 1.1482409 & 3 & 3 & ⋯ & NA & NA & NA & NA & NA & NA & NA & NA & NA & NA\\\\\n",
       "\tAAACCTGCAATGAATG-1\\_1 & Gaydosik2022\\_HC1\\_HC2 &  1022 &  390 &   43 & 11 & 4.207436 &  1022 & 0.2388079 & 4 & 4 & ⋯ & NA & NA & NA & NA & NA & NA & NA & NA & NA & NA\\\\\n",
       "\tAAACCTGTCTGGTTCC-1\\_1 & Gaydosik2022\\_HC1\\_HC2 & 15873 & 2602 &  600 & 13 & 3.780004 & 15873 & 3.7090003 & 4 & 4 & ⋯ & NA & NA & NA & NA & NA & NA & NA & NA & NA & NA\\\\\n",
       "\tAAACGGGAGACGCAAC-1\\_1 & Gaydosik2022\\_HC1\\_HC2 & 37802 & 4347 & 2522 & 12 & 6.671605 & 37802 & 8.8330895 & 4 & 4 & ⋯ & NA & NA & NA & NA & NA & NA & NA & NA & NA & NA\\\\\n",
       "\\end{tabular}\n"
      ],
      "text/markdown": [
       "\n",
       "A data.frame: 6 × 183\n",
       "\n",
       "| <!--/--> | run &lt;fct&gt; | sum &lt;dbl&gt; | detected &lt;int&gt; | subsets_Mito_sum &lt;dbl&gt; | subsets_Mito_detected &lt;int&gt; | subsets_Mito_percent &lt;dbl&gt; | total &lt;dbl&gt; | sizeFactor &lt;dbl&gt; | louvain &lt;fct&gt; | cluster &lt;fct&gt; | ⋯ ⋯ | Multi.2.j_gene &lt;fct&gt; | Multi.2.c_gene &lt;fct&gt; | Multi.2.cdr3 &lt;fct&gt; | Multi.2.cdr3_nt &lt;fct&gt; | Multi.2.umis &lt;int&gt; | Multi.2.reads &lt;int&gt; | Multi.2.high_confidence &lt;lgl&gt; | Multi.2.productive &lt;lgl&gt; | Multi.2.full_length &lt;lgl&gt; | Multi.2.raw_clonotype_id &lt;fct&gt; |\n",
       "|---|---|---|---|---|---|---|---|---|---|---|---|---|---|---|---|---|---|---|---|---|---|\n",
       "| AAACCTGAGACAAGCC-1_1 | Gaydosik2022_HC1_HC2 |  9979 | 3090 |  225 | 12 | 2.254735 |  9979 | 2.3317655 | 1 | 1 | ⋯ | NA | NA | NA | NA | NA | NA | NA | NA | NA | NA |\n",
       "| AAACCTGAGCTAGTTC-1_1 | Gaydosik2022_HC1_HC2 |   820 |  474 |   48 | 11 | 5.853659 |   820 | 0.1916071 | 2 | 2 | ⋯ | NA | NA | NA | NA | NA | NA | NA | NA | NA | NA |\n",
       "| AAACCTGCAACGATGG-1_1 | Gaydosik2022_HC1_HC2 |  4914 | 1745 |  320 | 12 | 6.512007 |  4914 | 1.1482409 | 3 | 3 | ⋯ | NA | NA | NA | NA | NA | NA | NA | NA | NA | NA |\n",
       "| AAACCTGCAATGAATG-1_1 | Gaydosik2022_HC1_HC2 |  1022 |  390 |   43 | 11 | 4.207436 |  1022 | 0.2388079 | 4 | 4 | ⋯ | NA | NA | NA | NA | NA | NA | NA | NA | NA | NA |\n",
       "| AAACCTGTCTGGTTCC-1_1 | Gaydosik2022_HC1_HC2 | 15873 | 2602 |  600 | 13 | 3.780004 | 15873 | 3.7090003 | 4 | 4 | ⋯ | NA | NA | NA | NA | NA | NA | NA | NA | NA | NA |\n",
       "| AAACGGGAGACGCAAC-1_1 | Gaydosik2022_HC1_HC2 | 37802 | 4347 | 2522 | 12 | 6.671605 | 37802 | 8.8330895 | 4 | 4 | ⋯ | NA | NA | NA | NA | NA | NA | NA | NA | NA | NA |\n",
       "\n"
      ],
      "text/plain": [
       "                     run                  sum   detected subsets_Mito_sum\n",
       "AAACCTGAGACAAGCC-1_1 Gaydosik2022_HC1_HC2  9979 3090      225            \n",
       "AAACCTGAGCTAGTTC-1_1 Gaydosik2022_HC1_HC2   820  474       48            \n",
       "AAACCTGCAACGATGG-1_1 Gaydosik2022_HC1_HC2  4914 1745      320            \n",
       "AAACCTGCAATGAATG-1_1 Gaydosik2022_HC1_HC2  1022  390       43            \n",
       "AAACCTGTCTGGTTCC-1_1 Gaydosik2022_HC1_HC2 15873 2602      600            \n",
       "AAACGGGAGACGCAAC-1_1 Gaydosik2022_HC1_HC2 37802 4347     2522            \n",
       "                     subsets_Mito_detected subsets_Mito_percent total\n",
       "AAACCTGAGACAAGCC-1_1 12                    2.254735              9979\n",
       "AAACCTGAGCTAGTTC-1_1 11                    5.853659               820\n",
       "AAACCTGCAACGATGG-1_1 12                    6.512007              4914\n",
       "AAACCTGCAATGAATG-1_1 11                    4.207436              1022\n",
       "AAACCTGTCTGGTTCC-1_1 13                    3.780004             15873\n",
       "AAACGGGAGACGCAAC-1_1 12                    6.671605             37802\n",
       "                     sizeFactor louvain cluster ⋯ Multi.2.j_gene Multi.2.c_gene\n",
       "AAACCTGAGACAAGCC-1_1 2.3317655  1       1       ⋯ NA             NA            \n",
       "AAACCTGAGCTAGTTC-1_1 0.1916071  2       2       ⋯ NA             NA            \n",
       "AAACCTGCAACGATGG-1_1 1.1482409  3       3       ⋯ NA             NA            \n",
       "AAACCTGCAATGAATG-1_1 0.2388079  4       4       ⋯ NA             NA            \n",
       "AAACCTGTCTGGTTCC-1_1 3.7090003  4       4       ⋯ NA             NA            \n",
       "AAACGGGAGACGCAAC-1_1 8.8330895  4       4       ⋯ NA             NA            \n",
       "                     Multi.2.cdr3 Multi.2.cdr3_nt Multi.2.umis Multi.2.reads\n",
       "AAACCTGAGACAAGCC-1_1 NA           NA              NA           NA           \n",
       "AAACCTGAGCTAGTTC-1_1 NA           NA              NA           NA           \n",
       "AAACCTGCAACGATGG-1_1 NA           NA              NA           NA           \n",
       "AAACCTGCAATGAATG-1_1 NA           NA              NA           NA           \n",
       "AAACCTGTCTGGTTCC-1_1 NA           NA              NA           NA           \n",
       "AAACGGGAGACGCAAC-1_1 NA           NA              NA           NA           \n",
       "                     Multi.2.high_confidence Multi.2.productive\n",
       "AAACCTGAGACAAGCC-1_1 NA                      NA                \n",
       "AAACCTGAGCTAGTTC-1_1 NA                      NA                \n",
       "AAACCTGCAACGATGG-1_1 NA                      NA                \n",
       "AAACCTGCAATGAATG-1_1 NA                      NA                \n",
       "AAACCTGTCTGGTTCC-1_1 NA                      NA                \n",
       "AAACGGGAGACGCAAC-1_1 NA                      NA                \n",
       "                     Multi.2.full_length Multi.2.raw_clonotype_id\n",
       "AAACCTGAGACAAGCC-1_1 NA                  NA                      \n",
       "AAACCTGAGCTAGTTC-1_1 NA                  NA                      \n",
       "AAACCTGCAACGATGG-1_1 NA                  NA                      \n",
       "AAACCTGCAATGAATG-1_1 NA                  NA                      \n",
       "AAACCTGTCTGGTTCC-1_1 NA                  NA                      \n",
       "AAACGGGAGACGCAAC-1_1 NA                  NA                      "
      ]
     },
     "metadata": {},
     "output_type": "display_data"
    }
   ],
   "source": [
    "coldata <- coldata_list %>% map(~ .x %>% as.data.frame() %>% .[,intersect(colnames(.), coldata_names)]) %>% bind_rows(.id=\"run\")\n",
    "coldata$run %<>% factor()\n",
    "head(coldata)"
   ]
  },
  {
   "cell_type": "markdown",
   "id": "8800696c",
   "metadata": {},
   "source": [
    "# Merge RNA counts"
   ]
  },
  {
   "cell_type": "code",
   "execution_count": 7,
   "id": "db71e765",
   "metadata": {},
   "outputs": [],
   "source": [
    "counts_list <- pmap(list(path_multisce, as.numeric(runs), runs), function(path, runID, run){\n",
    "    data <- counts(readRDS(here::here(path, \"sce\", \"RNA.rds\")))\n",
    "    colnames(data) %<>% paste(runID, sep=\"_\")\n",
    "    \n",
    "    return(data)\n",
    "})"
   ]
  },
  {
   "cell_type": "code",
   "execution_count": 8,
   "id": "25caf7c7",
   "metadata": {},
   "outputs": [],
   "source": [
    "# The Gaydosik 2019 study is using an old reference annotation - to allow integration, we only use genes also included in GRCh38\n",
    "rownames_include <- rownames(counts_list[[\"Gaydosik2022_MF17\"]])\n",
    "\n",
    "data_counts <- counts_list %>% map(scutility::subset_matrix, features=rownames_include) %>% Reduce(cbind, .)"
   ]
  },
  {
   "cell_type": "markdown",
   "id": "093a9dfb",
   "metadata": {},
   "source": [
    "Some annotation needs to be adjusted to be consistent"
   ]
  },
  {
   "cell_type": "code",
   "execution_count": 9,
   "id": "c1cde0ee",
   "metadata": {
    "scrolled": true
   },
   "outputs": [],
   "source": [
    "coldata$tissue[is.na(coldata$tissue)] <- \"Skin\""
   ]
  },
  {
   "cell_type": "code",
   "execution_count": 10,
   "id": "fae0421c",
   "metadata": {},
   "outputs": [],
   "source": [
    "#Rindler2021a only has data from a single donor\n",
    "coldata$donor[coldata$study == \"Rindler2021a\"] <- \"Rindler2021a_MF1\""
   ]
  },
  {
   "cell_type": "code",
   "execution_count": 11,
   "id": "a982f491",
   "metadata": {},
   "outputs": [],
   "source": [
    "coldata$sample[is.na(coldata$sample)] <- coldata$run[is.na(coldata$sample)]"
   ]
  },
  {
   "cell_type": "markdown",
   "id": "6bd1109c",
   "metadata": {},
   "source": [
    "# Identify malignant clone\n",
    "Using scTCR-seq information"
   ]
  },
  {
   "cell_type": "code",
   "execution_count": 12,
   "id": "0b486fd0",
   "metadata": {},
   "outputs": [],
   "source": [
    "coldata$TRB.1.cdr3[coldata$TRB.1.cdr3 == \"None\"] <- NA\n",
    "coldata$TRA.1.cdr3[coldata$TRA.1.cdr3 == \"None\"] <- NA"
   ]
  },
  {
   "cell_type": "code",
   "execution_count": 32,
   "id": "0c6d4ad1",
   "metadata": {},
   "outputs": [
    {
     "name": "stderr",
     "output_type": "stream",
     "text": [
      "\u001b[1m\u001b[22m`summarise()` has grouped output by 'donor', 'TRB_top1', 'TRB_top1_count'. You can override using the `.groups` argument.\n"
     ]
    },
    {
     "data": {
      "text/html": [
       "<table class=\"dataframe\">\n",
       "<caption>A grouped_df: 2 × 6</caption>\n",
       "<thead>\n",
       "\t<tr><th scope=col>donor</th><th scope=col>TRB_top1</th><th scope=col>TRB_top1_count</th><th scope=col>TRA.1.cdr3</th><th scope=col>TRA_count</th><th scope=col>TRA_freq</th></tr>\n",
       "\t<tr><th scope=col>&lt;chr&gt;</th><th scope=col>&lt;fct&gt;</th><th scope=col>&lt;int&gt;</th><th scope=col>&lt;chr&gt;</th><th scope=col>&lt;int&gt;</th><th scope=col>&lt;dbl&gt;</th></tr>\n",
       "</thead>\n",
       "<tbody>\n",
       "\t<tr><td>Gaydosik2022_MF17</td><td>CASSPTGQGAQETQYF</td><td>3600</td><td>CAMSQAGTALIF</td><td>3112</td><td>0.8644444</td></tr>\n",
       "\t<tr><td>Gaydosik2022_MF17</td><td>CASSPTGQGAQETQYF</td><td>3600</td><td>NA          </td><td> 480</td><td>0.1333333</td></tr>\n",
       "</tbody>\n",
       "</table>\n"
      ],
      "text/latex": [
       "A grouped\\_df: 2 × 6\n",
       "\\begin{tabular}{llllll}\n",
       " donor & TRB\\_top1 & TRB\\_top1\\_count & TRA.1.cdr3 & TRA\\_count & TRA\\_freq\\\\\n",
       " <chr> & <fct> & <int> & <chr> & <int> & <dbl>\\\\\n",
       "\\hline\n",
       "\t Gaydosik2022\\_MF17 & CASSPTGQGAQETQYF & 3600 & CAMSQAGTALIF & 3112 & 0.8644444\\\\\n",
       "\t Gaydosik2022\\_MF17 & CASSPTGQGAQETQYF & 3600 & NA           &  480 & 0.1333333\\\\\n",
       "\\end{tabular}\n"
      ],
      "text/markdown": [
       "\n",
       "A grouped_df: 2 × 6\n",
       "\n",
       "| donor &lt;chr&gt; | TRB_top1 &lt;fct&gt; | TRB_top1_count &lt;int&gt; | TRA.1.cdr3 &lt;chr&gt; | TRA_count &lt;int&gt; | TRA_freq &lt;dbl&gt; |\n",
       "|---|---|---|---|---|---|\n",
       "| Gaydosik2022_MF17 | CASSPTGQGAQETQYF | 3600 | CAMSQAGTALIF | 3112 | 0.8644444 |\n",
       "| Gaydosik2022_MF17 | CASSPTGQGAQETQYF | 3600 | NA           |  480 | 0.1333333 |\n",
       "\n"
      ],
      "text/plain": [
       "  donor             TRB_top1         TRB_top1_count TRA.1.cdr3   TRA_count\n",
       "1 Gaydosik2022_MF17 CASSPTGQGAQETQYF 3600           CAMSQAGTALIF 3112     \n",
       "2 Gaydosik2022_MF17 CASSPTGQGAQETQYF 3600           NA            480     \n",
       "  TRA_freq \n",
       "1 0.8644444\n",
       "2 0.1333333"
      ]
     },
     "metadata": {},
     "output_type": "display_data"
    }
   ],
   "source": [
    "TRB <- coldata %>% \n",
    "    group_by(donor) %>% \n",
    "    mutate(TRB_top1=fct_lump_n(TRB.1.cdr3, n=1, ties.method=\"first\", other_level=\"Other\")) %>% \n",
    "    filter(!is.na(TRB_top1) & !TRB_top1 %in% c(\"Other\")) %>% \n",
    "    mutate(TRB_top1_count=n()) %>% \n",
    "    #filter(!is.na(TRA.1.cdr3) & !TRA.1.cdr3 %in% c(\"None\",\"Other\")) %>% \n",
    "    group_by(donor, TRB_top1, TRB_top1_count, TRA.1.cdr3) %>% summarize(TRA_count=n()) %>% \n",
    "    filter(TRA_count > 2) %>% \n",
    "    mutate(TRA_freq=TRA_count/TRB_top1_count) %>% slice_max(n=10, order_by=TRA_freq)\n",
    "\n",
    "TRB[TRB$donor == \"Gaydosik2022_MF17\", ]"
   ]
  },
  {
   "cell_type": "code",
   "execution_count": 33,
   "id": "ee14df74",
   "metadata": {},
   "outputs": [
    {
     "name": "stderr",
     "output_type": "stream",
     "text": [
      "\u001b[1m\u001b[22m`summarise()` has grouped output by 'donor', 'TRA_top1', 'TRA_top1_count'. You can override using the `.groups` argument.\n"
     ]
    },
    {
     "data": {
      "text/html": [
       "<table class=\"dataframe\">\n",
       "<caption>A grouped_df: 2 × 6</caption>\n",
       "<thead>\n",
       "\t<tr><th scope=col>donor</th><th scope=col>TRA_top1</th><th scope=col>TRA_top1_count</th><th scope=col>TRB.1.cdr3</th><th scope=col>TRB_count</th><th scope=col>TRB_freq</th></tr>\n",
       "\t<tr><th scope=col>&lt;chr&gt;</th><th scope=col>&lt;fct&gt;</th><th scope=col>&lt;int&gt;</th><th scope=col>&lt;chr&gt;</th><th scope=col>&lt;int&gt;</th><th scope=col>&lt;dbl&gt;</th></tr>\n",
       "</thead>\n",
       "<tbody>\n",
       "\t<tr><td>Gaydosik2022_MF17</td><td>CAMSQAGTALIF</td><td>3185</td><td>CASSPTGQGAQETQYF</td><td>3112</td><td>0.97708006</td></tr>\n",
       "\t<tr><td>Gaydosik2022_MF17</td><td>CAMSQAGTALIF</td><td>3185</td><td>NA              </td><td>  66</td><td>0.02072214</td></tr>\n",
       "</tbody>\n",
       "</table>\n"
      ],
      "text/latex": [
       "A grouped\\_df: 2 × 6\n",
       "\\begin{tabular}{llllll}\n",
       " donor & TRA\\_top1 & TRA\\_top1\\_count & TRB.1.cdr3 & TRB\\_count & TRB\\_freq\\\\\n",
       " <chr> & <fct> & <int> & <chr> & <int> & <dbl>\\\\\n",
       "\\hline\n",
       "\t Gaydosik2022\\_MF17 & CAMSQAGTALIF & 3185 & CASSPTGQGAQETQYF & 3112 & 0.97708006\\\\\n",
       "\t Gaydosik2022\\_MF17 & CAMSQAGTALIF & 3185 & NA               &   66 & 0.02072214\\\\\n",
       "\\end{tabular}\n"
      ],
      "text/markdown": [
       "\n",
       "A grouped_df: 2 × 6\n",
       "\n",
       "| donor &lt;chr&gt; | TRA_top1 &lt;fct&gt; | TRA_top1_count &lt;int&gt; | TRB.1.cdr3 &lt;chr&gt; | TRB_count &lt;int&gt; | TRB_freq &lt;dbl&gt; |\n",
       "|---|---|---|---|---|---|\n",
       "| Gaydosik2022_MF17 | CAMSQAGTALIF | 3185 | CASSPTGQGAQETQYF | 3112 | 0.97708006 |\n",
       "| Gaydosik2022_MF17 | CAMSQAGTALIF | 3185 | NA               |   66 | 0.02072214 |\n",
       "\n"
      ],
      "text/plain": [
       "  donor             TRA_top1     TRA_top1_count TRB.1.cdr3       TRB_count\n",
       "1 Gaydosik2022_MF17 CAMSQAGTALIF 3185           CASSPTGQGAQETQYF 3112     \n",
       "2 Gaydosik2022_MF17 CAMSQAGTALIF 3185           NA                 66     \n",
       "  TRB_freq  \n",
       "1 0.97708006\n",
       "2 0.02072214"
      ]
     },
     "metadata": {},
     "output_type": "display_data"
    }
   ],
   "source": [
    "TRA <- coldata %>% \n",
    "    group_by(donor) %>% \n",
    "    mutate(TRA_top1=fct_lump_n(TRA.1.cdr3, n=1, ties.method=\"first\", other_level=\"Other\")) %>% \n",
    "    filter(!is.na(TRA_top1) & !TRA_top1 %in% c(\"Other\")) %>% \n",
    "    mutate(TRA_top1_count=n()) %>% \n",
    "    #filter(!is.na(TRB.1.cdr3) & !TRB.1.cdr3 %in% c(\"None\",\"Other\")) %>% \n",
    "    group_by(donor, TRA_top1, TRA_top1_count, TRB.1.cdr3) %>% summarize(TRB_count=n()) %>% \n",
    "    filter(TRB_count > 2) %>% \n",
    "    mutate(TRB_freq=TRB_count/TRA_top1_count) %>% slice_max(n=10, order_by=TRB_freq)\n",
    "\n",
    "TRA[TRA$donor == \"Gaydosik2022_MF17\", ]"
   ]
  },
  {
   "cell_type": "code",
   "execution_count": 34,
   "id": "13e0f1fe",
   "metadata": {},
   "outputs": [
    {
     "name": "stderr",
     "output_type": "stream",
     "text": [
      "\u001b[1m\u001b[22mJoining with `by = join_by(donor)`\n",
      "Warning message in full_join(TRB, TRA):\n",
      "“\u001b[1m\u001b[22mDetected an unexpected many-to-many relationship between `x` and `y`.\n",
      "\u001b[36mℹ\u001b[39m Row 1 of `x` matches multiple rows in `y`.\n",
      "\u001b[36mℹ\u001b[39m Row 1 of `y` matches multiple rows in `x`.\n",
      "\u001b[36mℹ\u001b[39m If a many-to-many relationship is expected, set `relationship = \"many-to-many\"` to silence this warning.”\n"
     ]
    },
    {
     "data": {
      "text/html": [
       "<table class=\"dataframe\">\n",
       "<caption>A grouped_df: 4 × 11</caption>\n",
       "<thead>\n",
       "\t<tr><th scope=col>donor</th><th scope=col>TRB_top1</th><th scope=col>TRB_top1_count</th><th scope=col>TRA.1.cdr3</th><th scope=col>TRA_count</th><th scope=col>TRA_freq</th><th scope=col>TRA_top1</th><th scope=col>TRA_top1_count</th><th scope=col>TRB.1.cdr3</th><th scope=col>TRB_count</th><th scope=col>TRB_freq</th></tr>\n",
       "\t<tr><th scope=col>&lt;chr&gt;</th><th scope=col>&lt;fct&gt;</th><th scope=col>&lt;dbl&gt;</th><th scope=col>&lt;chr&gt;</th><th scope=col>&lt;int&gt;</th><th scope=col>&lt;dbl&gt;</th><th scope=col>&lt;fct&gt;</th><th scope=col>&lt;dbl&gt;</th><th scope=col>&lt;chr&gt;</th><th scope=col>&lt;int&gt;</th><th scope=col>&lt;dbl&gt;</th></tr>\n",
       "</thead>\n",
       "<tbody>\n",
       "\t<tr><td>Gaydosik2022_MF17</td><td>CASSPTGQGAQETQYF</td><td>3600</td><td>CAMSQAGTALIF</td><td>3112</td><td>0.8644444</td><td>CAMSQAGTALIF</td><td>3185</td><td>CASSPTGQGAQETQYF</td><td>3112</td><td>0.97708006</td></tr>\n",
       "\t<tr><td>Gaydosik2022_MF17</td><td>CASSPTGQGAQETQYF</td><td>3600</td><td>CAMSQAGTALIF</td><td>3112</td><td>0.8644444</td><td>CAMSQAGTALIF</td><td>3185</td><td>NA              </td><td>  66</td><td>0.02072214</td></tr>\n",
       "\t<tr><td>Gaydosik2022_MF17</td><td>CASSPTGQGAQETQYF</td><td>3600</td><td>NA          </td><td> 480</td><td>0.1333333</td><td>CAMSQAGTALIF</td><td>3185</td><td>CASSPTGQGAQETQYF</td><td>3112</td><td>0.97708006</td></tr>\n",
       "\t<tr><td>Gaydosik2022_MF17</td><td>CASSPTGQGAQETQYF</td><td>3600</td><td>NA          </td><td> 480</td><td>0.1333333</td><td>CAMSQAGTALIF</td><td>3185</td><td>NA              </td><td>  66</td><td>0.02072214</td></tr>\n",
       "</tbody>\n",
       "</table>\n"
      ],
      "text/latex": [
       "A grouped\\_df: 4 × 11\n",
       "\\begin{tabular}{lllllllllll}\n",
       " donor & TRB\\_top1 & TRB\\_top1\\_count & TRA.1.cdr3 & TRA\\_count & TRA\\_freq & TRA\\_top1 & TRA\\_top1\\_count & TRB.1.cdr3 & TRB\\_count & TRB\\_freq\\\\\n",
       " <chr> & <fct> & <dbl> & <chr> & <int> & <dbl> & <fct> & <dbl> & <chr> & <int> & <dbl>\\\\\n",
       "\\hline\n",
       "\t Gaydosik2022\\_MF17 & CASSPTGQGAQETQYF & 3600 & CAMSQAGTALIF & 3112 & 0.8644444 & CAMSQAGTALIF & 3185 & CASSPTGQGAQETQYF & 3112 & 0.97708006\\\\\n",
       "\t Gaydosik2022\\_MF17 & CASSPTGQGAQETQYF & 3600 & CAMSQAGTALIF & 3112 & 0.8644444 & CAMSQAGTALIF & 3185 & NA               &   66 & 0.02072214\\\\\n",
       "\t Gaydosik2022\\_MF17 & CASSPTGQGAQETQYF & 3600 & NA           &  480 & 0.1333333 & CAMSQAGTALIF & 3185 & CASSPTGQGAQETQYF & 3112 & 0.97708006\\\\\n",
       "\t Gaydosik2022\\_MF17 & CASSPTGQGAQETQYF & 3600 & NA           &  480 & 0.1333333 & CAMSQAGTALIF & 3185 & NA               &   66 & 0.02072214\\\\\n",
       "\\end{tabular}\n"
      ],
      "text/markdown": [
       "\n",
       "A grouped_df: 4 × 11\n",
       "\n",
       "| donor &lt;chr&gt; | TRB_top1 &lt;fct&gt; | TRB_top1_count &lt;dbl&gt; | TRA.1.cdr3 &lt;chr&gt; | TRA_count &lt;int&gt; | TRA_freq &lt;dbl&gt; | TRA_top1 &lt;fct&gt; | TRA_top1_count &lt;dbl&gt; | TRB.1.cdr3 &lt;chr&gt; | TRB_count &lt;int&gt; | TRB_freq &lt;dbl&gt; |\n",
       "|---|---|---|---|---|---|---|---|---|---|---|\n",
       "| Gaydosik2022_MF17 | CASSPTGQGAQETQYF | 3600 | CAMSQAGTALIF | 3112 | 0.8644444 | CAMSQAGTALIF | 3185 | CASSPTGQGAQETQYF | 3112 | 0.97708006 |\n",
       "| Gaydosik2022_MF17 | CASSPTGQGAQETQYF | 3600 | CAMSQAGTALIF | 3112 | 0.8644444 | CAMSQAGTALIF | 3185 | NA               |   66 | 0.02072214 |\n",
       "| Gaydosik2022_MF17 | CASSPTGQGAQETQYF | 3600 | NA           |  480 | 0.1333333 | CAMSQAGTALIF | 3185 | CASSPTGQGAQETQYF | 3112 | 0.97708006 |\n",
       "| Gaydosik2022_MF17 | CASSPTGQGAQETQYF | 3600 | NA           |  480 | 0.1333333 | CAMSQAGTALIF | 3185 | NA               |   66 | 0.02072214 |\n",
       "\n"
      ],
      "text/plain": [
       "  donor             TRB_top1         TRB_top1_count TRA.1.cdr3   TRA_count\n",
       "1 Gaydosik2022_MF17 CASSPTGQGAQETQYF 3600           CAMSQAGTALIF 3112     \n",
       "2 Gaydosik2022_MF17 CASSPTGQGAQETQYF 3600           CAMSQAGTALIF 3112     \n",
       "3 Gaydosik2022_MF17 CASSPTGQGAQETQYF 3600           NA            480     \n",
       "4 Gaydosik2022_MF17 CASSPTGQGAQETQYF 3600           NA            480     \n",
       "  TRA_freq  TRA_top1     TRA_top1_count TRB.1.cdr3       TRB_count TRB_freq  \n",
       "1 0.8644444 CAMSQAGTALIF 3185           CASSPTGQGAQETQYF 3112      0.97708006\n",
       "2 0.8644444 CAMSQAGTALIF 3185           NA                 66      0.02072214\n",
       "3 0.1333333 CAMSQAGTALIF 3185           CASSPTGQGAQETQYF 3112      0.97708006\n",
       "4 0.1333333 CAMSQAGTALIF 3185           NA                 66      0.02072214"
      ]
     },
     "metadata": {},
     "output_type": "display_data"
    }
   ],
   "source": [
    "clonotypes_long <- full_join(TRB, TRA)\n",
    "clonotypes_long$TRA_freq[is.na(clonotypes_long$TRA_freq)] <- 1\n",
    "clonotypes_long$TRB_freq[is.na(clonotypes_long$TRB_freq)] <- 1\n",
    "clonotypes_long$TRA_top1_count[is.na(clonotypes_long$TRA_top1_count)] <- 0\n",
    "clonotypes_long$TRB_top1_count[is.na(clonotypes_long$TRB_top1_count)] <- 0\n",
    "\n",
    "clonotypes_long[clonotypes_long$donor == \"Gaydosik2022_MF17\",]"
   ]
  },
  {
   "cell_type": "code",
   "execution_count": 36,
   "id": "f124ae5f",
   "metadata": {},
   "outputs": [
    {
     "data": {
      "text/html": [
       "<table class=\"dataframe\">\n",
       "<caption>A grouped_df: 3 × 11</caption>\n",
       "<thead>\n",
       "\t<tr><th scope=col>donor</th><th scope=col>TRB_top1</th><th scope=col>TRB_top1_count</th><th scope=col>TRA.1.cdr3</th><th scope=col>TRA_count</th><th scope=col>TRA_freq</th><th scope=col>TRA_top1</th><th scope=col>TRA_top1_count</th><th scope=col>TRB.1.cdr3</th><th scope=col>TRB_count</th><th scope=col>TRB_freq</th></tr>\n",
       "\t<tr><th scope=col>&lt;chr&gt;</th><th scope=col>&lt;fct&gt;</th><th scope=col>&lt;dbl&gt;</th><th scope=col>&lt;chr&gt;</th><th scope=col>&lt;int&gt;</th><th scope=col>&lt;dbl&gt;</th><th scope=col>&lt;fct&gt;</th><th scope=col>&lt;dbl&gt;</th><th scope=col>&lt;chr&gt;</th><th scope=col>&lt;int&gt;</th><th scope=col>&lt;dbl&gt;</th></tr>\n",
       "</thead>\n",
       "<tbody>\n",
       "\t<tr><td>Gaydosik2022_MF17</td><td>CASSPTGQGAQETQYF</td><td>3600</td><td>CAMSQAGTALIF</td><td>3112</td><td>0.8644444</td><td>CAMSQAGTALIF</td><td>3185</td><td>CASSPTGQGAQETQYF</td><td>3112</td><td>0.97708006</td></tr>\n",
       "\t<tr><td>Gaydosik2022_MF17</td><td>CASSPTGQGAQETQYF</td><td>3600</td><td>CAMSQAGTALIF</td><td>3112</td><td>0.8644444</td><td>CAMSQAGTALIF</td><td>3185</td><td>NA              </td><td>  66</td><td>0.02072214</td></tr>\n",
       "\t<tr><td>Gaydosik2022_MF17</td><td>CASSPTGQGAQETQYF</td><td>3600</td><td>NA          </td><td> 480</td><td>0.1333333</td><td>CAMSQAGTALIF</td><td>3185</td><td>CASSPTGQGAQETQYF</td><td>3112</td><td>0.97708006</td></tr>\n",
       "</tbody>\n",
       "</table>\n"
      ],
      "text/latex": [
       "A grouped\\_df: 3 × 11\n",
       "\\begin{tabular}{lllllllllll}\n",
       " donor & TRB\\_top1 & TRB\\_top1\\_count & TRA.1.cdr3 & TRA\\_count & TRA\\_freq & TRA\\_top1 & TRA\\_top1\\_count & TRB.1.cdr3 & TRB\\_count & TRB\\_freq\\\\\n",
       " <chr> & <fct> & <dbl> & <chr> & <int> & <dbl> & <fct> & <dbl> & <chr> & <int> & <dbl>\\\\\n",
       "\\hline\n",
       "\t Gaydosik2022\\_MF17 & CASSPTGQGAQETQYF & 3600 & CAMSQAGTALIF & 3112 & 0.8644444 & CAMSQAGTALIF & 3185 & CASSPTGQGAQETQYF & 3112 & 0.97708006\\\\\n",
       "\t Gaydosik2022\\_MF17 & CASSPTGQGAQETQYF & 3600 & CAMSQAGTALIF & 3112 & 0.8644444 & CAMSQAGTALIF & 3185 & NA               &   66 & 0.02072214\\\\\n",
       "\t Gaydosik2022\\_MF17 & CASSPTGQGAQETQYF & 3600 & NA           &  480 & 0.1333333 & CAMSQAGTALIF & 3185 & CASSPTGQGAQETQYF & 3112 & 0.97708006\\\\\n",
       "\\end{tabular}\n"
      ],
      "text/markdown": [
       "\n",
       "A grouped_df: 3 × 11\n",
       "\n",
       "| donor &lt;chr&gt; | TRB_top1 &lt;fct&gt; | TRB_top1_count &lt;dbl&gt; | TRA.1.cdr3 &lt;chr&gt; | TRA_count &lt;int&gt; | TRA_freq &lt;dbl&gt; | TRA_top1 &lt;fct&gt; | TRA_top1_count &lt;dbl&gt; | TRB.1.cdr3 &lt;chr&gt; | TRB_count &lt;int&gt; | TRB_freq &lt;dbl&gt; |\n",
       "|---|---|---|---|---|---|---|---|---|---|---|\n",
       "| Gaydosik2022_MF17 | CASSPTGQGAQETQYF | 3600 | CAMSQAGTALIF | 3112 | 0.8644444 | CAMSQAGTALIF | 3185 | CASSPTGQGAQETQYF | 3112 | 0.97708006 |\n",
       "| Gaydosik2022_MF17 | CASSPTGQGAQETQYF | 3600 | CAMSQAGTALIF | 3112 | 0.8644444 | CAMSQAGTALIF | 3185 | NA               |   66 | 0.02072214 |\n",
       "| Gaydosik2022_MF17 | CASSPTGQGAQETQYF | 3600 | NA           |  480 | 0.1333333 | CAMSQAGTALIF | 3185 | CASSPTGQGAQETQYF | 3112 | 0.97708006 |\n",
       "\n"
      ],
      "text/plain": [
       "  donor             TRB_top1         TRB_top1_count TRA.1.cdr3   TRA_count\n",
       "1 Gaydosik2022_MF17 CASSPTGQGAQETQYF 3600           CAMSQAGTALIF 3112     \n",
       "2 Gaydosik2022_MF17 CASSPTGQGAQETQYF 3600           CAMSQAGTALIF 3112     \n",
       "3 Gaydosik2022_MF17 CASSPTGQGAQETQYF 3600           NA            480     \n",
       "  TRA_freq  TRA_top1     TRA_top1_count TRB.1.cdr3       TRB_count TRB_freq  \n",
       "1 0.8644444 CAMSQAGTALIF 3185           CASSPTGQGAQETQYF 3112      0.97708006\n",
       "2 0.8644444 CAMSQAGTALIF 3185           NA                 66      0.02072214\n",
       "3 0.1333333 CAMSQAGTALIF 3185           CASSPTGQGAQETQYF 3112      0.97708006"
      ]
     },
     "metadata": {},
     "output_type": "display_data"
    }
   ],
   "source": [
    "clonotypes_long %<>% \n",
    "    filter(TRA_freq > 0.02 &\n",
    "           TRB_freq > 0.02 &\n",
    "           (TRA_freq > 0.25 | TRB_freq > 0.25) & \n",
    "           TRA_freq+TRB_freq > 0.4 & \n",
    "           TRA_top1_count+TRB_top1_count > 25)\n",
    "\n",
    "clonotypes_long[clonotypes_long$donor == \"Gaydosik2022_MF17\",]"
   ]
  },
  {
   "cell_type": "code",
   "execution_count": 37,
   "id": "46b59498",
   "metadata": {},
   "outputs": [
    {
     "data": {
      "text/html": [
       "<table class=\"dataframe\">\n",
       "<caption>A grouped_df: 3 × 11</caption>\n",
       "<thead>\n",
       "\t<tr><th scope=col>donor</th><th scope=col>TRB_top1</th><th scope=col>TRB_top1_count</th><th scope=col>TRA.1.cdr3</th><th scope=col>TRA_count</th><th scope=col>TRA_freq</th><th scope=col>TRA_top1</th><th scope=col>TRA_top1_count</th><th scope=col>TRB.1.cdr3</th><th scope=col>TRB_count</th><th scope=col>TRB_freq</th></tr>\n",
       "\t<tr><th scope=col>&lt;chr&gt;</th><th scope=col>&lt;fct&gt;</th><th scope=col>&lt;dbl&gt;</th><th scope=col>&lt;chr&gt;</th><th scope=col>&lt;int&gt;</th><th scope=col>&lt;dbl&gt;</th><th scope=col>&lt;fct&gt;</th><th scope=col>&lt;dbl&gt;</th><th scope=col>&lt;chr&gt;</th><th scope=col>&lt;dbl&gt;</th><th scope=col>&lt;dbl&gt;</th></tr>\n",
       "</thead>\n",
       "<tbody>\n",
       "\t<tr><td>Gaydosik2022_MF17</td><td>CASSPTGQGAQETQYF</td><td>3600</td><td>CAMSQAGTALIF</td><td>3112</td><td>0.8644444</td><td>CAMSQAGTALIF</td><td>3185</td><td>CASSPTGQGAQETQYF</td><td>3112</td><td>0.97708006</td></tr>\n",
       "\t<tr><td>Gaydosik2022_MF17</td><td>CASSPTGQGAQETQYF</td><td>3600</td><td>CAMSQAGTALIF</td><td>3112</td><td>0.8644444</td><td>CAMSQAGTALIF</td><td>3185</td><td>NA              </td><td>  66</td><td>0.02072214</td></tr>\n",
       "\t<tr><td>Gaydosik2022_MF17</td><td>CASSPTGQGAQETQYF</td><td>3600</td><td>NA          </td><td> 480</td><td>0.1333333</td><td>CAMSQAGTALIF</td><td>3185</td><td>CASSPTGQGAQETQYF</td><td>3112</td><td>0.97708006</td></tr>\n",
       "</tbody>\n",
       "</table>\n"
      ],
      "text/latex": [
       "A grouped\\_df: 3 × 11\n",
       "\\begin{tabular}{lllllllllll}\n",
       " donor & TRB\\_top1 & TRB\\_top1\\_count & TRA.1.cdr3 & TRA\\_count & TRA\\_freq & TRA\\_top1 & TRA\\_top1\\_count & TRB.1.cdr3 & TRB\\_count & TRB\\_freq\\\\\n",
       " <chr> & <fct> & <dbl> & <chr> & <int> & <dbl> & <fct> & <dbl> & <chr> & <dbl> & <dbl>\\\\\n",
       "\\hline\n",
       "\t Gaydosik2022\\_MF17 & CASSPTGQGAQETQYF & 3600 & CAMSQAGTALIF & 3112 & 0.8644444 & CAMSQAGTALIF & 3185 & CASSPTGQGAQETQYF & 3112 & 0.97708006\\\\\n",
       "\t Gaydosik2022\\_MF17 & CASSPTGQGAQETQYF & 3600 & CAMSQAGTALIF & 3112 & 0.8644444 & CAMSQAGTALIF & 3185 & NA               &   66 & 0.02072214\\\\\n",
       "\t Gaydosik2022\\_MF17 & CASSPTGQGAQETQYF & 3600 & NA           &  480 & 0.1333333 & CAMSQAGTALIF & 3185 & CASSPTGQGAQETQYF & 3112 & 0.97708006\\\\\n",
       "\\end{tabular}\n"
      ],
      "text/markdown": [
       "\n",
       "A grouped_df: 3 × 11\n",
       "\n",
       "| donor &lt;chr&gt; | TRB_top1 &lt;fct&gt; | TRB_top1_count &lt;dbl&gt; | TRA.1.cdr3 &lt;chr&gt; | TRA_count &lt;int&gt; | TRA_freq &lt;dbl&gt; | TRA_top1 &lt;fct&gt; | TRA_top1_count &lt;dbl&gt; | TRB.1.cdr3 &lt;chr&gt; | TRB_count &lt;dbl&gt; | TRB_freq &lt;dbl&gt; |\n",
       "|---|---|---|---|---|---|---|---|---|---|---|\n",
       "| Gaydosik2022_MF17 | CASSPTGQGAQETQYF | 3600 | CAMSQAGTALIF | 3112 | 0.8644444 | CAMSQAGTALIF | 3185 | CASSPTGQGAQETQYF | 3112 | 0.97708006 |\n",
       "| Gaydosik2022_MF17 | CASSPTGQGAQETQYF | 3600 | CAMSQAGTALIF | 3112 | 0.8644444 | CAMSQAGTALIF | 3185 | NA               |   66 | 0.02072214 |\n",
       "| Gaydosik2022_MF17 | CASSPTGQGAQETQYF | 3600 | NA           |  480 | 0.1333333 | CAMSQAGTALIF | 3185 | CASSPTGQGAQETQYF | 3112 | 0.97708006 |\n",
       "\n"
      ],
      "text/plain": [
       "  donor             TRB_top1         TRB_top1_count TRA.1.cdr3   TRA_count\n",
       "1 Gaydosik2022_MF17 CASSPTGQGAQETQYF 3600           CAMSQAGTALIF 3112     \n",
       "2 Gaydosik2022_MF17 CASSPTGQGAQETQYF 3600           CAMSQAGTALIF 3112     \n",
       "3 Gaydosik2022_MF17 CASSPTGQGAQETQYF 3600           NA            480     \n",
       "  TRA_freq  TRA_top1     TRA_top1_count TRB.1.cdr3       TRB_count TRB_freq  \n",
       "1 0.8644444 CAMSQAGTALIF 3185           CASSPTGQGAQETQYF 3112      0.97708006\n",
       "2 0.8644444 CAMSQAGTALIF 3185           NA                 66      0.02072214\n",
       "3 0.1333333 CAMSQAGTALIF 3185           CASSPTGQGAQETQYF 3112      0.97708006"
      ]
     },
     "metadata": {},
     "output_type": "display_data"
    }
   ],
   "source": [
    "subset <- which(clonotypes_long$TRA_freq > 0.95 & is.na(clonotypes_long$TRA.1.cdr3))\n",
    "if(length(subset) > 0){\n",
    "    clonotypes_long$TRA_top1[subset] <- NA\n",
    "    clonotypes_long$TRA_top1_count[subset] <- 0\n",
    "    clonotypes_long$TRB.1.cdr3[subset] <- NA\n",
    "    clonotypes_long$TRB_count[subset] <- 0\n",
    "    clonotypes_long$TRB_freq[subset] <- 0\n",
    "}\n",
    "clonotypes_long[clonotypes_long$donor == \"Gaydosik2022_MF17\",]"
   ]
  },
  {
   "cell_type": "code",
   "execution_count": 38,
   "id": "bb202578",
   "metadata": {},
   "outputs": [
    {
     "data": {
      "text/html": [
       "<table class=\"dataframe\">\n",
       "<caption>A grouped_df: 3 × 11</caption>\n",
       "<thead>\n",
       "\t<tr><th scope=col>donor</th><th scope=col>TRB_top1</th><th scope=col>TRB_top1_count</th><th scope=col>TRA.1.cdr3</th><th scope=col>TRA_count</th><th scope=col>TRA_freq</th><th scope=col>TRA_top1</th><th scope=col>TRA_top1_count</th><th scope=col>TRB.1.cdr3</th><th scope=col>TRB_count</th><th scope=col>TRB_freq</th></tr>\n",
       "\t<tr><th scope=col>&lt;chr&gt;</th><th scope=col>&lt;fct&gt;</th><th scope=col>&lt;dbl&gt;</th><th scope=col>&lt;chr&gt;</th><th scope=col>&lt;int&gt;</th><th scope=col>&lt;dbl&gt;</th><th scope=col>&lt;fct&gt;</th><th scope=col>&lt;dbl&gt;</th><th scope=col>&lt;chr&gt;</th><th scope=col>&lt;dbl&gt;</th><th scope=col>&lt;dbl&gt;</th></tr>\n",
       "</thead>\n",
       "<tbody>\n",
       "\t<tr><td>Gaydosik2022_MF17</td><td>CASSPTGQGAQETQYF</td><td>3600</td><td>CAMSQAGTALIF</td><td>3112</td><td>0.8644444</td><td>CAMSQAGTALIF</td><td>3185</td><td>CASSPTGQGAQETQYF</td><td>3112</td><td>0.97708006</td></tr>\n",
       "\t<tr><td>Gaydosik2022_MF17</td><td>CASSPTGQGAQETQYF</td><td>3600</td><td>CAMSQAGTALIF</td><td>3112</td><td>0.8644444</td><td>CAMSQAGTALIF</td><td>3185</td><td>NA              </td><td>  66</td><td>0.02072214</td></tr>\n",
       "\t<tr><td>Gaydosik2022_MF17</td><td>CASSPTGQGAQETQYF</td><td>3600</td><td>NA          </td><td> 480</td><td>0.1333333</td><td>CAMSQAGTALIF</td><td>3185</td><td>CASSPTGQGAQETQYF</td><td>3112</td><td>0.97708006</td></tr>\n",
       "</tbody>\n",
       "</table>\n"
      ],
      "text/latex": [
       "A grouped\\_df: 3 × 11\n",
       "\\begin{tabular}{lllllllllll}\n",
       " donor & TRB\\_top1 & TRB\\_top1\\_count & TRA.1.cdr3 & TRA\\_count & TRA\\_freq & TRA\\_top1 & TRA\\_top1\\_count & TRB.1.cdr3 & TRB\\_count & TRB\\_freq\\\\\n",
       " <chr> & <fct> & <dbl> & <chr> & <int> & <dbl> & <fct> & <dbl> & <chr> & <dbl> & <dbl>\\\\\n",
       "\\hline\n",
       "\t Gaydosik2022\\_MF17 & CASSPTGQGAQETQYF & 3600 & CAMSQAGTALIF & 3112 & 0.8644444 & CAMSQAGTALIF & 3185 & CASSPTGQGAQETQYF & 3112 & 0.97708006\\\\\n",
       "\t Gaydosik2022\\_MF17 & CASSPTGQGAQETQYF & 3600 & CAMSQAGTALIF & 3112 & 0.8644444 & CAMSQAGTALIF & 3185 & NA               &   66 & 0.02072214\\\\\n",
       "\t Gaydosik2022\\_MF17 & CASSPTGQGAQETQYF & 3600 & NA           &  480 & 0.1333333 & CAMSQAGTALIF & 3185 & CASSPTGQGAQETQYF & 3112 & 0.97708006\\\\\n",
       "\\end{tabular}\n"
      ],
      "text/markdown": [
       "\n",
       "A grouped_df: 3 × 11\n",
       "\n",
       "| donor &lt;chr&gt; | TRB_top1 &lt;fct&gt; | TRB_top1_count &lt;dbl&gt; | TRA.1.cdr3 &lt;chr&gt; | TRA_count &lt;int&gt; | TRA_freq &lt;dbl&gt; | TRA_top1 &lt;fct&gt; | TRA_top1_count &lt;dbl&gt; | TRB.1.cdr3 &lt;chr&gt; | TRB_count &lt;dbl&gt; | TRB_freq &lt;dbl&gt; |\n",
       "|---|---|---|---|---|---|---|---|---|---|---|\n",
       "| Gaydosik2022_MF17 | CASSPTGQGAQETQYF | 3600 | CAMSQAGTALIF | 3112 | 0.8644444 | CAMSQAGTALIF | 3185 | CASSPTGQGAQETQYF | 3112 | 0.97708006 |\n",
       "| Gaydosik2022_MF17 | CASSPTGQGAQETQYF | 3600 | CAMSQAGTALIF | 3112 | 0.8644444 | CAMSQAGTALIF | 3185 | NA               |   66 | 0.02072214 |\n",
       "| Gaydosik2022_MF17 | CASSPTGQGAQETQYF | 3600 | NA           |  480 | 0.1333333 | CAMSQAGTALIF | 3185 | CASSPTGQGAQETQYF | 3112 | 0.97708006 |\n",
       "\n"
      ],
      "text/plain": [
       "  donor             TRB_top1         TRB_top1_count TRA.1.cdr3   TRA_count\n",
       "1 Gaydosik2022_MF17 CASSPTGQGAQETQYF 3600           CAMSQAGTALIF 3112     \n",
       "2 Gaydosik2022_MF17 CASSPTGQGAQETQYF 3600           CAMSQAGTALIF 3112     \n",
       "3 Gaydosik2022_MF17 CASSPTGQGAQETQYF 3600           NA            480     \n",
       "  TRA_freq  TRA_top1     TRA_top1_count TRB.1.cdr3       TRB_count TRB_freq  \n",
       "1 0.8644444 CAMSQAGTALIF 3185           CASSPTGQGAQETQYF 3112      0.97708006\n",
       "2 0.8644444 CAMSQAGTALIF 3185           NA                 66      0.02072214\n",
       "3 0.1333333 CAMSQAGTALIF 3185           CASSPTGQGAQETQYF 3112      0.97708006"
      ]
     },
     "metadata": {},
     "output_type": "display_data"
    }
   ],
   "source": [
    "subset <- which(clonotypes_long$TRB_freq > 0.95 & is.na(clonotypes_long$TRB.1.cdr3))\n",
    "if(length(subset) > 0){\n",
    "    clonotypes_long$TRB_top1[subset] <- NA\n",
    "    clonotypes_long$TRB_top1_count[subset] <- 0\n",
    "    clonotypes_long$TRA.1.cdr3[subset] <- NA\n",
    "    clonotypes_long$TRA_count[subset] <- 0\n",
    "    clonotypes_long$TRA_freq[subset] <- 0\n",
    "}\n",
    "\n",
    "clonotypes_long[clonotypes_long$donor == \"Gaydosik2022_MF17\",]"
   ]
  },
  {
   "cell_type": "code",
   "execution_count": 39,
   "id": "48830bea",
   "metadata": {},
   "outputs": [],
   "source": [
    "subset <- clonotypes_long$TRB_top1_count/clonotypes_long$TRB_count > 10 & is.na(clonotypes_long$TRB.1.cdr3)\n",
    "clonotypes_long$TRB.1.cdr3[subset] <- as.character(clonotypes_long$TRB_top1[subset])\n",
    "subset <- clonotypes_long$TRA_top1_count/clonotypes_long$TRA_count > 10 & is.na(clonotypes_long$TRA.1.cdr3)\n",
    "clonotypes_long$TRA.1.cdr3[subset] <- as.character(clonotypes_long$TRA_top1[subset])"
   ]
  },
  {
   "cell_type": "code",
   "execution_count": 40,
   "id": "e9bcdcae",
   "metadata": {},
   "outputs": [
    {
     "data": {
      "text/html": [
       "<table class=\"dataframe\">\n",
       "<caption>A tibble: 5 × 3</caption>\n",
       "<thead>\n",
       "\t<tr><th scope=col>donor</th><th scope=col>Malignant.TRA</th><th scope=col>Malignant.TRB</th></tr>\n",
       "\t<tr><th scope=col>&lt;chr&gt;</th><th scope=col>&lt;chr&gt;</th><th scope=col>&lt;chr&gt;</th></tr>\n",
       "</thead>\n",
       "<tbody>\n",
       "\t<tr><td>Gaydosik2022_MF17</td><td>CAMSQAGTALIF              </td><td>CASSPTGQGAQETQYF</td></tr>\n",
       "\t<tr><td>Gaydosik2022_MF18</td><td>CAMVPKWGGSYIPTF           </td><td>CAISESDRDRVAFF  </td></tr>\n",
       "\t<tr><td>Gaydosik2022_MF19</td><td>CALRKRGNTPLVF,CHGSSNTGKLIF</td><td>CASKLFMDREKGEAFF</td></tr>\n",
       "\t<tr><td>Gaydosik2022_MF21</td><td>CVVTRTGGSYIPTF            </td><td>CASSHRQGAISPLHF </td></tr>\n",
       "\t<tr><td>Gaydosik2022_MF24</td><td>CAAPNSGGYQKVTF            </td><td>CASSIYGYSYNSPLHF</td></tr>\n",
       "</tbody>\n",
       "</table>\n"
      ],
      "text/latex": [
       "A tibble: 5 × 3\n",
       "\\begin{tabular}{lll}\n",
       " donor & Malignant.TRA & Malignant.TRB\\\\\n",
       " <chr> & <chr> & <chr>\\\\\n",
       "\\hline\n",
       "\t Gaydosik2022\\_MF17 & CAMSQAGTALIF               & CASSPTGQGAQETQYF\\\\\n",
       "\t Gaydosik2022\\_MF18 & CAMVPKWGGSYIPTF            & CAISESDRDRVAFF  \\\\\n",
       "\t Gaydosik2022\\_MF19 & CALRKRGNTPLVF,CHGSSNTGKLIF & CASKLFMDREKGEAFF\\\\\n",
       "\t Gaydosik2022\\_MF21 & CVVTRTGGSYIPTF             & CASSHRQGAISPLHF \\\\\n",
       "\t Gaydosik2022\\_MF24 & CAAPNSGGYQKVTF             & CASSIYGYSYNSPLHF\\\\\n",
       "\\end{tabular}\n"
      ],
      "text/markdown": [
       "\n",
       "A tibble: 5 × 3\n",
       "\n",
       "| donor &lt;chr&gt; | Malignant.TRA &lt;chr&gt; | Malignant.TRB &lt;chr&gt; |\n",
       "|---|---|---|\n",
       "| Gaydosik2022_MF17 | CAMSQAGTALIF               | CASSPTGQGAQETQYF |\n",
       "| Gaydosik2022_MF18 | CAMVPKWGGSYIPTF            | CAISESDRDRVAFF   |\n",
       "| Gaydosik2022_MF19 | CALRKRGNTPLVF,CHGSSNTGKLIF | CASKLFMDREKGEAFF |\n",
       "| Gaydosik2022_MF21 | CVVTRTGGSYIPTF             | CASSHRQGAISPLHF  |\n",
       "| Gaydosik2022_MF24 | CAAPNSGGYQKVTF             | CASSIYGYSYNSPLHF |\n",
       "\n"
      ],
      "text/plain": [
       "  donor             Malignant.TRA              Malignant.TRB   \n",
       "1 Gaydosik2022_MF17 CAMSQAGTALIF               CASSPTGQGAQETQYF\n",
       "2 Gaydosik2022_MF18 CAMVPKWGGSYIPTF            CAISESDRDRVAFF  \n",
       "3 Gaydosik2022_MF19 CALRKRGNTPLVF,CHGSSNTGKLIF CASKLFMDREKGEAFF\n",
       "4 Gaydosik2022_MF21 CVVTRTGGSYIPTF             CASSHRQGAISPLHF \n",
       "5 Gaydosik2022_MF24 CAAPNSGGYQKVTF             CASSIYGYSYNSPLHF"
      ]
     },
     "metadata": {},
     "output_type": "display_data"
    }
   ],
   "source": [
    "clonotypes <- clonotypes_long %>% group_by(donor) %>% summarize(Malignant.TRA=paste(unique(na.omit(TRA.1.cdr3)), collapse=\",\"), \n",
    "                                                                 Malignant.TRB=paste(unique(na.omit(TRB.1.cdr3)), collapse=\",\"))\n",
    "\n",
    "clonotypes %>% filter(grepl(\"Gaydosik\", donor))"
   ]
  },
  {
   "cell_type": "code",
   "execution_count": 41,
   "id": "1aeefd6b",
   "metadata": {},
   "outputs": [
    {
     "name": "stderr",
     "output_type": "stream",
     "text": [
      "Warning message:\n",
      "“\u001b[1m\u001b[22mExpected 3 pieces. Missing pieces filled with `NA` in 17 rows [1, 2, 3, 4, 5, 6, 7, 8, 9, 10, 11, 12, 13, 14, 15, 16, 17].”\n"
     ]
    },
    {
     "data": {
      "text/html": [
       "<table class=\"dataframe\">\n",
       "<caption>A tibble: 5 × 3</caption>\n",
       "<thead>\n",
       "\t<tr><th scope=col>donor</th><th scope=col>TRB.1.cdr3</th><th scope=col>Malignant.TRB</th></tr>\n",
       "\t<tr><th scope=col>&lt;chr&gt;</th><th scope=col>&lt;chr&gt;</th><th scope=col>&lt;lgl&gt;</th></tr>\n",
       "</thead>\n",
       "<tbody>\n",
       "\t<tr><td>Gaydosik2022_MF17</td><td>CASSPTGQGAQETQYF</td><td>TRUE</td></tr>\n",
       "\t<tr><td>Gaydosik2022_MF18</td><td>CAISESDRDRVAFF  </td><td>TRUE</td></tr>\n",
       "\t<tr><td>Gaydosik2022_MF19</td><td>CASKLFMDREKGEAFF</td><td>TRUE</td></tr>\n",
       "\t<tr><td>Gaydosik2022_MF21</td><td>CASSHRQGAISPLHF </td><td>TRUE</td></tr>\n",
       "\t<tr><td>Gaydosik2022_MF24</td><td>CASSIYGYSYNSPLHF</td><td>TRUE</td></tr>\n",
       "</tbody>\n",
       "</table>\n"
      ],
      "text/latex": [
       "A tibble: 5 × 3\n",
       "\\begin{tabular}{lll}\n",
       " donor & TRB.1.cdr3 & Malignant.TRB\\\\\n",
       " <chr> & <chr> & <lgl>\\\\\n",
       "\\hline\n",
       "\t Gaydosik2022\\_MF17 & CASSPTGQGAQETQYF & TRUE\\\\\n",
       "\t Gaydosik2022\\_MF18 & CAISESDRDRVAFF   & TRUE\\\\\n",
       "\t Gaydosik2022\\_MF19 & CASKLFMDREKGEAFF & TRUE\\\\\n",
       "\t Gaydosik2022\\_MF21 & CASSHRQGAISPLHF  & TRUE\\\\\n",
       "\t Gaydosik2022\\_MF24 & CASSIYGYSYNSPLHF & TRUE\\\\\n",
       "\\end{tabular}\n"
      ],
      "text/markdown": [
       "\n",
       "A tibble: 5 × 3\n",
       "\n",
       "| donor &lt;chr&gt; | TRB.1.cdr3 &lt;chr&gt; | Malignant.TRB &lt;lgl&gt; |\n",
       "|---|---|---|\n",
       "| Gaydosik2022_MF17 | CASSPTGQGAQETQYF | TRUE |\n",
       "| Gaydosik2022_MF18 | CAISESDRDRVAFF   | TRUE |\n",
       "| Gaydosik2022_MF19 | CASKLFMDREKGEAFF | TRUE |\n",
       "| Gaydosik2022_MF21 | CASSHRQGAISPLHF  | TRUE |\n",
       "| Gaydosik2022_MF24 | CASSIYGYSYNSPLHF | TRUE |\n",
       "\n"
      ],
      "text/plain": [
       "  donor             TRB.1.cdr3       Malignant.TRB\n",
       "1 Gaydosik2022_MF17 CASSPTGQGAQETQYF TRUE         \n",
       "2 Gaydosik2022_MF18 CAISESDRDRVAFF   TRUE         \n",
       "3 Gaydosik2022_MF19 CASKLFMDREKGEAFF TRUE         \n",
       "4 Gaydosik2022_MF21 CASSHRQGAISPLHF  TRUE         \n",
       "5 Gaydosik2022_MF24 CASSIYGYSYNSPLHF TRUE         "
      ]
     },
     "metadata": {},
     "output_type": "display_data"
    }
   ],
   "source": [
    "clonotypes_TRB <- clonotypes %>% select(donor, Malignant.TRB) %>% \n",
    "    separate(Malignant.TRB, into=c(\"TRB.1\", \"TRB.2\", \"TRB.3\"), sep=\",\") %>% \n",
    "    pivot_longer(c(TRB.1, TRB.2, TRB.3), values_to=\"TRB.1.cdr3\") %>% \n",
    "    filter(!is.na(TRB.1.cdr3) & TRB.1.cdr3 != \"\") %>% select(donor, TRB.1.cdr3) %>% \n",
    "    mutate(Malignant.TRB=TRUE)\n",
    "\n",
    "clonotypes_TRB %>% filter(grepl(\"Gaydosik\", donor))"
   ]
  },
  {
   "cell_type": "code",
   "execution_count": 42,
   "id": "fccea19f",
   "metadata": {},
   "outputs": [
    {
     "name": "stderr",
     "output_type": "stream",
     "text": [
      "Warning message:\n",
      "“\u001b[1m\u001b[22mExpected 3 pieces. Missing pieces filled with `NA` in 16 rows [1, 2, 3, 4, 5, 6, 7, 9, 10, 11, 12, 13, 14, 15, 16, 17].”\n"
     ]
    },
    {
     "data": {
      "text/html": [
       "<table class=\"dataframe\">\n",
       "<caption>A tibble: 6 × 3</caption>\n",
       "<thead>\n",
       "\t<tr><th scope=col>donor</th><th scope=col>TRA.1.cdr3</th><th scope=col>Malignant.TRA</th></tr>\n",
       "\t<tr><th scope=col>&lt;chr&gt;</th><th scope=col>&lt;chr&gt;</th><th scope=col>&lt;lgl&gt;</th></tr>\n",
       "</thead>\n",
       "<tbody>\n",
       "\t<tr><td>Gaydosik2022_MF17</td><td>CAMSQAGTALIF   </td><td>TRUE</td></tr>\n",
       "\t<tr><td>Gaydosik2022_MF18</td><td>CAMVPKWGGSYIPTF</td><td>TRUE</td></tr>\n",
       "\t<tr><td>Gaydosik2022_MF19</td><td>CALRKRGNTPLVF  </td><td>TRUE</td></tr>\n",
       "\t<tr><td>Gaydosik2022_MF19</td><td>CHGSSNTGKLIF   </td><td>TRUE</td></tr>\n",
       "\t<tr><td>Gaydosik2022_MF21</td><td>CVVTRTGGSYIPTF </td><td>TRUE</td></tr>\n",
       "\t<tr><td>Gaydosik2022_MF24</td><td>CAAPNSGGYQKVTF </td><td>TRUE</td></tr>\n",
       "</tbody>\n",
       "</table>\n"
      ],
      "text/latex": [
       "A tibble: 6 × 3\n",
       "\\begin{tabular}{lll}\n",
       " donor & TRA.1.cdr3 & Malignant.TRA\\\\\n",
       " <chr> & <chr> & <lgl>\\\\\n",
       "\\hline\n",
       "\t Gaydosik2022\\_MF17 & CAMSQAGTALIF    & TRUE\\\\\n",
       "\t Gaydosik2022\\_MF18 & CAMVPKWGGSYIPTF & TRUE\\\\\n",
       "\t Gaydosik2022\\_MF19 & CALRKRGNTPLVF   & TRUE\\\\\n",
       "\t Gaydosik2022\\_MF19 & CHGSSNTGKLIF    & TRUE\\\\\n",
       "\t Gaydosik2022\\_MF21 & CVVTRTGGSYIPTF  & TRUE\\\\\n",
       "\t Gaydosik2022\\_MF24 & CAAPNSGGYQKVTF  & TRUE\\\\\n",
       "\\end{tabular}\n"
      ],
      "text/markdown": [
       "\n",
       "A tibble: 6 × 3\n",
       "\n",
       "| donor &lt;chr&gt; | TRA.1.cdr3 &lt;chr&gt; | Malignant.TRA &lt;lgl&gt; |\n",
       "|---|---|---|\n",
       "| Gaydosik2022_MF17 | CAMSQAGTALIF    | TRUE |\n",
       "| Gaydosik2022_MF18 | CAMVPKWGGSYIPTF | TRUE |\n",
       "| Gaydosik2022_MF19 | CALRKRGNTPLVF   | TRUE |\n",
       "| Gaydosik2022_MF19 | CHGSSNTGKLIF    | TRUE |\n",
       "| Gaydosik2022_MF21 | CVVTRTGGSYIPTF  | TRUE |\n",
       "| Gaydosik2022_MF24 | CAAPNSGGYQKVTF  | TRUE |\n",
       "\n"
      ],
      "text/plain": [
       "  donor             TRA.1.cdr3      Malignant.TRA\n",
       "1 Gaydosik2022_MF17 CAMSQAGTALIF    TRUE         \n",
       "2 Gaydosik2022_MF18 CAMVPKWGGSYIPTF TRUE         \n",
       "3 Gaydosik2022_MF19 CALRKRGNTPLVF   TRUE         \n",
       "4 Gaydosik2022_MF19 CHGSSNTGKLIF    TRUE         \n",
       "5 Gaydosik2022_MF21 CVVTRTGGSYIPTF  TRUE         \n",
       "6 Gaydosik2022_MF24 CAAPNSGGYQKVTF  TRUE         "
      ]
     },
     "metadata": {},
     "output_type": "display_data"
    }
   ],
   "source": [
    "clonotypes_TRA <- clonotypes %>% select(donor, Malignant.TRA) %>% \n",
    "    separate(Malignant.TRA, into=c(\"TRA.1\", \"TRA.2\", \"TRA.3\"), sep=\",\") %>% \n",
    "    pivot_longer(c(TRA.1, TRA.2, TRA.3), values_to=\"TRA.1.cdr3\") %>% \n",
    "    filter(!is.na(TRA.1.cdr3) & TRA.1.cdr3 != \"\") %>% select(donor, TRA.1.cdr3) %>% \n",
    "    mutate(Malignant.TRA=TRUE)\n",
    "\n",
    "clonotypes_TRA %>% filter(grepl(\"Gaydosik\", donor))"
   ]
  },
  {
   "cell_type": "code",
   "execution_count": 43,
   "id": "36eeb44a",
   "metadata": {},
   "outputs": [
    {
     "name": "stderr",
     "output_type": "stream",
     "text": [
      "\u001b[1m\u001b[22mJoining with `by = join_by(donor, TRA.1.cdr3)`\n",
      "\u001b[1m\u001b[22mJoining with `by = join_by(donor, TRB.1.cdr3)`\n"
     ]
    }
   ],
   "source": [
    "coldata %<>% .[,grep(\"^Malignant.TR[AB]$\", colnames(.), invert=TRUE)]\n",
    "\n",
    "coldata %<>% rownames_to_column(\"barcode\") \n",
    "coldata %<>% left_join(clonotypes_TRA)\n",
    "coldata %<>% left_join(clonotypes_TRB)\n",
    "coldata %<>% column_to_rownames(\"barcode\") "
   ]
  },
  {
   "cell_type": "code",
   "execution_count": 44,
   "id": "47db2aaf",
   "metadata": {
    "scrolled": true
   },
   "outputs": [],
   "source": [
    "coldata$Malignant <- \"Unknown\"\n",
    "coldata$Malignant[(coldata$Malignant.TRA == TRUE | coldata$Malignant.TRB == TRUE) & \n",
    "                  coldata$cell_type %in% c(\"CD4+ T-cells\", \"CD8+ T-cells\", \"NK cells\", \"NK_cell\")] <- \"Malignant\"\n",
    "\n",
    "coldata$Malignant[which(coldata$cell_type %in% c(\"CD4+ T-cells\", \"CD8+ T-cells\") & \n",
    "                        coldata$Malignant != \"Malignant\" & \n",
    "                        (!is.na(coldata$TRA.1.cdr3) | !is.na(coldata$TRB.1.cdr3)))] <- \"T cell\""
   ]
  },
  {
   "cell_type": "code",
   "execution_count": 45,
   "id": "c051141e",
   "metadata": {},
   "outputs": [
    {
     "data": {
      "text/plain": [
       "\n",
       "Malignant    T cell   Unknown \n",
       "    33194     21998    204735 "
      ]
     },
     "metadata": {},
     "output_type": "display_data"
    }
   ],
   "source": [
    "table(coldata$Malignant)"
   ]
  },
  {
   "cell_type": "markdown",
   "id": "53a1f661",
   "metadata": {},
   "source": [
    "# Prepare anndata object for scVI"
   ]
  },
  {
   "cell_type": "code",
   "execution_count": 26,
   "id": "e7efe451",
   "metadata": {},
   "outputs": [],
   "source": [
    "# filter doublets from object\n",
    "coldata_subset <- with(coldata, which(sample != \"Doublet\" & doublet != TRUE & scDblFinder.class != \"doublet\"))"
   ]
  },
  {
   "cell_type": "code",
   "execution_count": 27,
   "id": "af42cf3d",
   "metadata": {},
   "outputs": [
    {
     "name": "stderr",
     "output_type": "stream",
     "text": [
      "\n",
      "Attaching package: ‘anndata’\n",
      "\n",
      "\n",
      "The following object is masked from ‘package:readr’:\n",
      "\n",
      "    read_csv\n",
      "\n",
      "\n"
     ]
    }
   ],
   "source": [
    "library(reticulate)\n",
    "library(anndata)\n",
    "\n",
    "use_condaenv(condaenv='scvi', required=TRUE)\n",
    "sc <- import('scanpy', convert = FALSE)\n",
    "anndata <- import('anndata', convert = FALSE)\n",
    "pd <- import('pandas', convert = FALSE)"
   ]
  },
  {
   "cell_type": "markdown",
   "id": "d31ea8a7",
   "metadata": {},
   "source": [
    "Add sample metadata to object"
   ]
  },
  {
   "cell_type": "code",
   "execution_count": 28,
   "id": "6793b1ae",
   "metadata": {},
   "outputs": [],
   "source": [
    "#metadata <- readxl::read_xlsx(here::here(\"data\", \"CTCL_MF_atlas_samples.xlsx\"))\n",
    "metadata <- read.table(here::here(\"data\", \"CTCL_MF_atlas_samples.tsv\"), sep=\"\\t\", header=TRUE)\n",
    "metadata %<>% group_by(run) %>% summarize(across(dplyr::everything(), function(x)x[1])) %>% column_to_rownames(\"run\")\n",
    "\n",
    "coldata %<>% cbind(metadata[as.character(.$run), c(\"chemistry\", \"lesion\", \"location\", \"CTCL_stage\", \"TNMB\", \"age\", \"sex\")])"
   ]
  },
  {
   "cell_type": "code",
   "execution_count": null,
   "id": "2e7c3ff1",
   "metadata": {},
   "outputs": [],
   "source": [
    "adata <- AnnData(X=t(data_counts[, coldata_subset]), \n",
    "                     obs=coldata[coldata_subset, ] %>% .[,grep(\"^TR[ABGD]$\", colnames(.), invert=TRUE)] %>% as.data.frame())\n",
    "                     \n",
    "write_h5ad(adata, here::here(\"data\", \"adata\", paste0(\"all\", \".h5ad\")))"
   ]
  },
  {
   "cell_type": "markdown",
   "id": "9ea403f6",
   "metadata": {},
   "source": [
    "Make SingleCellObject as well and do batch normalization"
   ]
  },
  {
   "cell_type": "code",
   "execution_count": null,
   "id": "74fcf9da",
   "metadata": {},
   "outputs": [],
   "source": [
    "sce_list <- imap(counts_list, function(counts, run){\n",
    "    sce <- SingleCellExperiment(list(counts=scutility::subset_matrix(counts, features=rownames_include)))\n",
    "    colData(sce) <- DataFrame(coldata[colnames(counts), ])\n",
    "    \n",
    "    return(sce)\n",
    "})"
   ]
  },
  {
   "cell_type": "code",
   "execution_count": null,
   "id": "f3d63cf9",
   "metadata": {},
   "outputs": [],
   "source": [
    "library(BiocParallel)\n",
    "sce_merged <- batchelor::multiBatchNorm(sce_list, preserve.single=TRUE, BPPARAM=MulticoreParam(workers=32)) %>% \n",
    "            Reduce(cbind, .)"
   ]
  },
  {
   "cell_type": "code",
   "execution_count": null,
   "id": "bc47146d",
   "metadata": {},
   "outputs": [],
   "source": [
    "sce_merged"
   ]
  },
  {
   "cell_type": "code",
   "execution_count": null,
   "id": "e3806616",
   "metadata": {},
   "outputs": [],
   "source": [
    "mainExpName(sce_merged) <- \"RNA\"\n",
    "multisce_save(sce_merged, path=here::here(\"data\", \"multisce\", \"all\"), main_name=\"RNA\")"
   ]
  }
 ],
 "metadata": {
  "kernelspec": {
   "display_name": "R",
   "language": "R",
   "name": "ir"
  },
  "language_info": {
   "codemirror_mode": "r",
   "file_extension": ".r",
   "mimetype": "text/x-r-source",
   "name": "R",
   "pygments_lexer": "r",
   "version": "4.2.2"
  }
 },
 "nbformat": 4,
 "nbformat_minor": 5
}
